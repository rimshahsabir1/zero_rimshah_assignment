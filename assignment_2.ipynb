{
 "cells": [
  {
   "cell_type": "markdown",
   "metadata": {},
   "source": [
    "###### Create a list, dictionary by generating random numbers <b> \n",
    "###### Now make a list and a dataframe <b> \n",
    "###### Then create dataframes from these lists <b> \n",
    "###### Iterate over this dataframe row by row\n"
   ]
  },
  {
   "cell_type": "markdown",
   "metadata": {},
   "source": [
    "###### By using random.randint(a, b), generate random integers within a specific range using , where \"a\" is the lower bound and \"b\" is the upper bound (inclusive). To generate random floats, use: random.random().\n",
    "###### Creating list using [] and Dict by {} <b>\n",
    "###### For converting list to dict, pandas libaray has been used. "
   ]
  },
  {
   "cell_type": "code",
   "execution_count": 11,
   "metadata": {},
   "outputs": [
    {
     "name": "stdout",
     "output_type": "stream",
     "text": [
      "     0\n",
      "0  111\n",
      "1  510\n",
      "2  809\n",
      "3  776\n",
      "4   14\n",
      "5  754\n",
      "6  779\n",
      "7   52\n",
      "8  800\n",
      "9  716\n",
      "   BREAK\n",
      "0    111\n",
      "1    510\n",
      "2    809\n",
      "3    776\n",
      "4     14\n",
      "5    754\n",
      "6    779\n",
      "7     52\n",
      "8    800\n",
      "9    716\n",
      "CPU times: total: 0 ns\n",
      "Wall time: 7.01 ms\n"
     ]
    }
   ],
   "source": [
    "%%time\n",
    "#import Libraries\n",
    "import random\n",
    "import pandas as pd\n",
    "\n",
    "\n",
    "# Generate random numbers\n",
    "random_numbers = [random.randint(1, 1000) for _ in range(10)]\n",
    "\n",
    "# Create a list\n",
    "numbers_list = random_numbers\n",
    "\n",
    "# Create a dictionary\n",
    "data_dict = {\"BREAK\": random_numbers}\n",
    "\n",
    "# Convert list to DataFrame\n",
    "df_from_list = pd.DataFrame(numbers_list)\n",
    "\n",
    "# Convert dictionary to DataFrame\n",
    "df_from_dict = pd.DataFrame(data_dict)\n",
    "\n",
    "print(df_from_list)\n",
    "print(df_from_dict)\n"
   ]
  },
  {
   "cell_type": "markdown",
   "metadata": {},
   "source": [
    "###### Ref: 1. https://automatetheboringstuff.com/2e/chapter8/ <b>\n",
    "###### Ref: 2. https://stackoverflow.com/questions/20638006/convert-list-of-dictionaries-to-a-pandas-dataframe <b>\n"
   ]
  },
  {
   "cell_type": "code",
   "execution_count": null,
   "metadata": {},
   "outputs": [],
   "source": []
  }
 ],
 "metadata": {
  "kernelspec": {
   "display_name": "Python 3",
   "language": "python",
   "name": "python3"
  },
  "language_info": {
   "codemirror_mode": {
    "name": "ipython",
    "version": 3
   },
   "file_extension": ".py",
   "mimetype": "text/x-python",
   "name": "python",
   "nbconvert_exporter": "python",
   "pygments_lexer": "ipython3",
   "version": "3.12.2"
  }
 },
 "nbformat": 4,
 "nbformat_minor": 2
}
