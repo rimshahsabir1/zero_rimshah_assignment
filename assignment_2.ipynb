{
 "cells": [
  {
   "cell_type": "markdown",
   "metadata": {},
   "source": [
    "# Assignmet_2 \n",
    "##### Create a list, dictionary by generating random numbers <b> \n",
    "##### Now make a list and a dataframe <b>\n",
    "##### Then create dataframes from these lists <b>\n",
    "##### Iterate over this dataframe row by row <b>\n",
    "##### Time the program (you can use jupyter cell-magic function called %%time or just give the output of python file execution in console) <b>\n",
    "##### Finally, make a note, that never iterate row-wise over dataframes.\n",
    "##### steps\n",
    "##### By using random.randint(a, b), generate random integers within a specific range using , where \"a\" is the lower bound and \"b\" is the upper bound (inclusive). To generate random floats, use: random.random(). <b>\n",
    "###### Creating list using [] and Dict by {} <b>\n",
    "###### For converting list to dict, pandas libaray has been used.\n",
    "###### b\"key_{i}\", f before the string indicates that it is an b-string. Within the string, {} is a placeholder that allows you to insert the value of a variable or expression. Here, i is a variable representing an integer. <b>\n",
    "##### b\"key_{i}\", it evaluates to a string where {i} is replaced with the value of the variable i. For example, if i is 2, the resulting string will be \"key_2\"."
   ]
  },
  {
   "cell_type": "code",
   "execution_count": 17,
   "metadata": {},
   "outputs": [
    {
     "name": "stdout",
     "output_type": "stream",
     "text": [
      "     0\n",
      "0  764\n",
      "1  909\n",
      "2  711\n",
      "3  658\n",
      "4  172\n",
      "5  280\n",
      "6  118\n",
      "7   96\n",
      "8  602\n",
      "9   40\n",
      "   BREAK\n",
      "0    764\n",
      "1    909\n",
      "2    711\n",
      "3    658\n",
      "4    172\n",
      "5    280\n",
      "6    118\n",
      "7     96\n",
      "8    602\n",
      "9     40\n",
      "CPU times: total: 0 ns\n",
      "Wall time: 5.98 ms\n"
     ]
    }
   ],
   "source": [
    "%%time\n",
    "#import Libraries\n",
    "import random\n",
    "import pandas as pd\n",
    "import itertools            \n",
    "\n",
    "\n",
    "# Generate random numbers\n",
    "random_numbers = [random.randint(1, 1000) for _ in range(10)]\n",
    "\n",
    "# Create a list\n",
    "numbers_list = random_numbers\n",
    "\n",
    "# Create a dictionary\n",
    "data_dict = {\"BREAK\": random_numbers}\n",
    "\n",
    "# Convert list to DataFrame\n",
    "df_from_list = pd.DataFrame(numbers_list)\n",
    "\n",
    "# Convert dictionary to DataFrame\n",
    "df_from_dict = pd.DataFrame(data_dict)\n",
    "\n",
    "print(df_from_list)\n",
    "print(df_from_dict)"
   ]
  },
  {
   "cell_type": "markdown",
   "metadata": {},
   "source": []
  },
  {
   "cell_type": "code",
   "execution_count": 43,
   "metadata": {},
   "outputs": [
    {
     "name": "stdout",
     "output_type": "stream",
     "text": [
      "RN    743.0\n",
      "RN      NaN\n",
      "Name: 0, dtype: float64\n",
      "CPU times: total: 0 ns\n",
      "Wall time: 5.28 ms\n"
     ]
    }
   ],
   "source": [
    "\n",
    "%%time\n",
    "\n",
    "import pandas as pd\n",
    "import numpy as np\n",
    "\n",
    "# Generate a list of random numbers\n",
    "random_list = [np.random.randint(1, 1000) for _ in range(20)]\n",
    "\n",
    "# Generate a dictionary of random numbers\n",
    "random_dict = {b\"key_{i}\": np.random.randint(1, 1000) for i in range(30)}\n",
    "\n",
    "# Create a DataFrame from the list\n",
    "list_df = pd.DataFrame(random_list, columns=['RN'])\n",
    "\n",
    "# Create a DataFrame from the dictionary\n",
    "dict_df = pd.DataFrame.from_dict(random_dict, orient='index', columns=['RN'])\n",
    "\n",
    "# Concatenate the two DataFrames\n",
    "concatenated_df = pd.concat([list_df, dict_df], axis=1)\n",
    "\n",
    "# Function to iterate over DataFrame row by row\n",
    "df = concatenated_df\n",
    "row = next(df.iterrows())[1]\n",
    "print(row)\n"
   ]
  },
  {
   "cell_type": "markdown",
   "metadata": {},
   "source": [
    "#### Final code"
   ]
  },
  {
   "cell_type": "code",
   "execution_count": 59,
   "metadata": {},
   "outputs": [
    {
     "name": "stdout",
     "output_type": "stream",
     "text": [
      "       Random_Numbers  Random_Numbers\n",
      "0               248.0             NaN\n",
      "1               560.0             NaN\n",
      "2               102.0             NaN\n",
      "3               404.0             NaN\n",
      "4               488.0             NaN\n",
      "5               676.0             NaN\n",
      "6               276.0             NaN\n",
      "7               879.0             NaN\n",
      "8               469.0             NaN\n",
      "9               427.0             NaN\n",
      "10              904.0             NaN\n",
      "11              513.0             NaN\n",
      "12               13.0             NaN\n",
      "13              256.0             NaN\n",
      "14              551.0             NaN\n",
      "15              691.0             NaN\n",
      "16               57.0             NaN\n",
      "17              779.0             NaN\n",
      "18              719.0             NaN\n",
      "19               69.0             NaN\n",
      "key_0             NaN            38.0\n",
      "key_1             NaN            14.0\n",
      "key_2             NaN            51.0\n",
      "key_3             NaN            56.0\n",
      "key_4             NaN            16.0\n",
      "key_5             NaN            30.0\n",
      "key_6             NaN            40.0\n",
      "key_7             NaN            25.0\n",
      "key_8             NaN            29.0\n",
      "key_9             NaN            39.0\n",
      "CPU times: total: 15.6 ms\n",
      "Wall time: 17.5 ms\n"
     ]
    }
   ],
   "source": [
    "%%time\n",
    "\n",
    "import pandas as pd\n",
    "import random\n",
    "\n",
    "# Generate a list of random numbers\n",
    "random_list = [np.random.randint(1, 1000) for _ in range(20)]\n",
    "\n",
    "# Generate a dictionary of random numbers\n",
    "random_dict = {f\"key_{i}\": np.random.randint(1, 100) for i in range(10)}\n",
    "\n",
    "# Create a DataFrame from the list\n",
    "list_df = pd.DataFrame(random_list, columns=['Random_Numbers'])\n",
    "\n",
    "# Create a DataFrame from the dictionary\n",
    "dict_df = pd.DataFrame.from_dict(random_dict, orient='index', columns=['Random_Numbers'])\n",
    "\n",
    "# Concatenate the two DataFrames\n",
    "concatenated_df = pd.concat([list_df, dict_df], axis=1)\n",
    "\n",
    "# Function to iterate over DataFrame row by row\n",
    "def iterate_dataframe(df):\n",
    "    for index, row in df.iterrows():\n",
    "        pass\n",
    "\n",
    "# Time the iteration process\n",
    "iterate_dataframe(concatenated_df)\n",
    "print(concatenated_df)"
   ]
  },
  {
   "cell_type": "markdown",
   "metadata": {},
   "source": [
    "### Code\n",
    "###### Generating random numbers:  to generate a list of random numbers and a dictionary of random numbers Random library has been used.<b>\n",
    "##### Creating DataFrames: It creates two pandas DataFrames (list_df and dict_df) from the generated list and dictionary, respectively.<b>\n",
    "##### Concatenating DataFrames: It concatenates the two DataFrames horizontally (side by side) using pd.concat() along the columns axis. <b>\n",
    "##### Iterating over the DataFrame: It defines a function iterate_dataframe() to iterate over the DataFrame concatenated_df row by row using the iterrows() function.<b>"
   ]
  },
  {
   "cell_type": "markdown",
   "metadata": {},
   "source": [
    "# References: \n",
    "###### 1. https://automatetheboringstuff.com/2e/chapter8/ <b>\n",
    "###### 2. https://stackoverflow.com/questions/20638006/convert-list-of-dictionaries-to-a-pandas-dataframe <b>\n",
    "###### 3. https://pandas.pydata.org/docs/user_guide/merging.html\n",
    "###### 4. https://pandas.pydata.org/docs/reference/api/pandas.DataFrame.iterrows.html\n",
    "###### 5. https://www.w3schools.com/python/python_functions.asp "
   ]
  },
  {
   "cell_type": "markdown",
   "metadata": {},
   "source": []
  }
 ],
 "metadata": {
  "kernelspec": {
   "display_name": "Python 3",
   "language": "python",
   "name": "python3"
  },
  "language_info": {
   "codemirror_mode": {
    "name": "ipython",
    "version": 3
   },
   "file_extension": ".py",
   "mimetype": "text/x-python",
   "name": "python",
   "nbconvert_exporter": "python",
   "pygments_lexer": "ipython3",
   "version": "3.12.2"
  }
 },
 "nbformat": 4,
 "nbformat_minor": 2
}
