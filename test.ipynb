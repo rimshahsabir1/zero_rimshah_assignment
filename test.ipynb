{
 "cells": [
  {
   "cell_type": "code",
   "execution_count": null,
   "metadata": {},
   "outputs": [],
   "source": [
    "import pandas as pd\n",
    "import numpy as np\n",
    "import seaborn as sns\n",
    "import matplotlib.pyplot as plt\n",
    "\n"
   ]
  },
  {
   "cell_type": "code",
   "execution_count": null,
   "metadata": {},
   "outputs": [],
   "source": [
    "df = pd.read_csv(\"Tomato & Potato Production.csv\", sep = ',')"
   ]
  },
  {
   "cell_type": "code",
   "execution_count": null,
   "metadata": {},
   "outputs": [
    {
     "data": {
      "text/html": [
       "<div>\n",
       "<style scoped>\n",
       "    .dataframe tbody tr th:only-of-type {\n",
       "        vertical-align: middle;\n",
       "    }\n",
       "\n",
       "    .dataframe tbody tr th {\n",
       "        vertical-align: top;\n",
       "    }\n",
       "\n",
       "    .dataframe thead th {\n",
       "        text-align: right;\n",
       "    }\n",
       "</style>\n",
       "<table border=\"1\" class=\"dataframe\">\n",
       "  <thead>\n",
       "    <tr style=\"text-align: right;\">\n",
       "      <th></th>\n",
       "      <th>Domain</th>\n",
       "      <th>Area</th>\n",
       "      <th>Element</th>\n",
       "      <th>Item</th>\n",
       "      <th>Year</th>\n",
       "      <th>Unit</th>\n",
       "      <th>Value</th>\n",
       "    </tr>\n",
       "  </thead>\n",
       "  <tbody>\n",
       "    <tr>\n",
       "      <th>0</th>\n",
       "      <td>Crops and livestock products</td>\n",
       "      <td>Afghanistan</td>\n",
       "      <td>Area harvested</td>\n",
       "      <td>Potatoes</td>\n",
       "      <td>1961</td>\n",
       "      <td>ha</td>\n",
       "      <td>15000.0</td>\n",
       "    </tr>\n",
       "    <tr>\n",
       "      <th>1</th>\n",
       "      <td>Crops and livestock products</td>\n",
       "      <td>Afghanistan</td>\n",
       "      <td>Area harvested</td>\n",
       "      <td>Potatoes</td>\n",
       "      <td>1962</td>\n",
       "      <td>ha</td>\n",
       "      <td>15000.0</td>\n",
       "    </tr>\n",
       "    <tr>\n",
       "      <th>2</th>\n",
       "      <td>Crops and livestock products</td>\n",
       "      <td>Afghanistan</td>\n",
       "      <td>Area harvested</td>\n",
       "      <td>Potatoes</td>\n",
       "      <td>1963</td>\n",
       "      <td>ha</td>\n",
       "      <td>15000.0</td>\n",
       "    </tr>\n",
       "    <tr>\n",
       "      <th>3</th>\n",
       "      <td>Crops and livestock products</td>\n",
       "      <td>Afghanistan</td>\n",
       "      <td>Area harvested</td>\n",
       "      <td>Potatoes</td>\n",
       "      <td>1964</td>\n",
       "      <td>ha</td>\n",
       "      <td>15000.0</td>\n",
       "    </tr>\n",
       "    <tr>\n",
       "      <th>4</th>\n",
       "      <td>Crops and livestock products</td>\n",
       "      <td>Afghanistan</td>\n",
       "      <td>Area harvested</td>\n",
       "      <td>Potatoes</td>\n",
       "      <td>1965</td>\n",
       "      <td>ha</td>\n",
       "      <td>15000.0</td>\n",
       "    </tr>\n",
       "  </tbody>\n",
       "</table>\n",
       "</div>"
      ],
      "text/plain": [
       "                         Domain         Area         Element      Item  Year  \\\n",
       "0  Crops and livestock products  Afghanistan  Area harvested  Potatoes  1961   \n",
       "1  Crops and livestock products  Afghanistan  Area harvested  Potatoes  1962   \n",
       "2  Crops and livestock products  Afghanistan  Area harvested  Potatoes  1963   \n",
       "3  Crops and livestock products  Afghanistan  Area harvested  Potatoes  1964   \n",
       "4  Crops and livestock products  Afghanistan  Area harvested  Potatoes  1965   \n",
       "\n",
       "  Unit    Value  \n",
       "0   ha  15000.0  \n",
       "1   ha  15000.0  \n",
       "2   ha  15000.0  \n",
       "3   ha  15000.0  \n",
       "4   ha  15000.0  "
      ]
     },
     "metadata": {},
     "output_type": "display_data"
    }
   ],
   "source": [
    "df.head()"
   ]
  },
  {
   "cell_type": "code",
   "execution_count": null,
   "metadata": {},
   "outputs": [
    {
     "data": {
      "text/html": [
       "<div>\n",
       "<style scoped>\n",
       "    .dataframe tbody tr th:only-of-type {\n",
       "        vertical-align: middle;\n",
       "    }\n",
       "\n",
       "    .dataframe tbody tr th {\n",
       "        vertical-align: top;\n",
       "    }\n",
       "\n",
       "    .dataframe thead th {\n",
       "        text-align: right;\n",
       "    }\n",
       "</style>\n",
       "<table border=\"1\" class=\"dataframe\">\n",
       "  <thead>\n",
       "    <tr style=\"text-align: right;\">\n",
       "      <th></th>\n",
       "      <th>Domain</th>\n",
       "      <th>Area</th>\n",
       "      <th>Element</th>\n",
       "      <th>Item</th>\n",
       "      <th>Year</th>\n",
       "      <th>Unit</th>\n",
       "      <th>Value</th>\n",
       "    </tr>\n",
       "  </thead>\n",
       "  <tbody>\n",
       "    <tr>\n",
       "      <th>50605</th>\n",
       "      <td>Crops and livestock products</td>\n",
       "      <td>Uruguay</td>\n",
       "      <td>Area harvested</td>\n",
       "      <td>Tomatoes</td>\n",
       "      <td>1969</td>\n",
       "      <td>ha</td>\n",
       "      <td>2700.0</td>\n",
       "    </tr>\n",
       "    <tr>\n",
       "      <th>47379</th>\n",
       "      <td>Crops and livestock products</td>\n",
       "      <td>Trinidad and Tobago</td>\n",
       "      <td>Area harvested</td>\n",
       "      <td>Tomatoes</td>\n",
       "      <td>1989</td>\n",
       "      <td>ha</td>\n",
       "      <td>230.0</td>\n",
       "    </tr>\n",
       "    <tr>\n",
       "      <th>31934</th>\n",
       "      <td>Crops and livestock products</td>\n",
       "      <td>Montenegro</td>\n",
       "      <td>Production</td>\n",
       "      <td>Potatoes</td>\n",
       "      <td>2016</td>\n",
       "      <td>tonnes</td>\n",
       "      <td>29917.0</td>\n",
       "    </tr>\n",
       "    <tr>\n",
       "      <th>31839</th>\n",
       "      <td>Crops and livestock products</td>\n",
       "      <td>Mongolia</td>\n",
       "      <td>Production</td>\n",
       "      <td>Potatoes</td>\n",
       "      <td>1978</td>\n",
       "      <td>tonnes</td>\n",
       "      <td>48500.0</td>\n",
       "    </tr>\n",
       "    <tr>\n",
       "      <th>33285</th>\n",
       "      <td>Crops and livestock products</td>\n",
       "      <td>Netherlands</td>\n",
       "      <td>Area harvested</td>\n",
       "      <td>Potatoes</td>\n",
       "      <td>1974</td>\n",
       "      <td>ha</td>\n",
       "      <td>142012.0</td>\n",
       "    </tr>\n",
       "    <tr>\n",
       "      <th>3641</th>\n",
       "      <td>Crops and livestock products</td>\n",
       "      <td>Bangladesh</td>\n",
       "      <td>Production</td>\n",
       "      <td>Potatoes</td>\n",
       "      <td>1992</td>\n",
       "      <td>tonnes</td>\n",
       "      <td>1379320.0</td>\n",
       "    </tr>\n",
       "    <tr>\n",
       "      <th>37206</th>\n",
       "      <td>Crops and livestock products</td>\n",
       "      <td>Papua New Guinea</td>\n",
       "      <td>Yield</td>\n",
       "      <td>Tomatoes</td>\n",
       "      <td>2015</td>\n",
       "      <td>hg/ha</td>\n",
       "      <td>41752.0</td>\n",
       "    </tr>\n",
       "    <tr>\n",
       "      <th>1581</th>\n",
       "      <td>Crops and livestock products</td>\n",
       "      <td>Argentina</td>\n",
       "      <td>Yield</td>\n",
       "      <td>Potatoes</td>\n",
       "      <td>2017</td>\n",
       "      <td>hg/ha</td>\n",
       "      <td>328586.0</td>\n",
       "    </tr>\n",
       "    <tr>\n",
       "      <th>6682</th>\n",
       "      <td>Crops and livestock products</td>\n",
       "      <td>Bulgaria</td>\n",
       "      <td>Yield</td>\n",
       "      <td>Tomatoes</td>\n",
       "      <td>1978</td>\n",
       "      <td>hg/ha</td>\n",
       "      <td>294939.0</td>\n",
       "    </tr>\n",
       "    <tr>\n",
       "      <th>15067</th>\n",
       "      <td>Crops and livestock products</td>\n",
       "      <td>Dominican Republic</td>\n",
       "      <td>Area harvested</td>\n",
       "      <td>Tomatoes</td>\n",
       "      <td>1990</td>\n",
       "      <td>ha</td>\n",
       "      <td>5900.0</td>\n",
       "    </tr>\n",
       "    <tr>\n",
       "      <th>37551</th>\n",
       "      <td>Crops and livestock products</td>\n",
       "      <td>Paraguay</td>\n",
       "      <td>Yield</td>\n",
       "      <td>Tomatoes</td>\n",
       "      <td>1994</td>\n",
       "      <td>hg/ha</td>\n",
       "      <td>375264.0</td>\n",
       "    </tr>\n",
       "    <tr>\n",
       "      <th>7417</th>\n",
       "      <td>Crops and livestock products</td>\n",
       "      <td>Cabo Verde</td>\n",
       "      <td>Production</td>\n",
       "      <td>Potatoes</td>\n",
       "      <td>1986</td>\n",
       "      <td>tonnes</td>\n",
       "      <td>2500.0</td>\n",
       "    </tr>\n",
       "    <tr>\n",
       "      <th>47490</th>\n",
       "      <td>Crops and livestock products</td>\n",
       "      <td>Trinidad and Tobago</td>\n",
       "      <td>Production</td>\n",
       "      <td>Tomatoes</td>\n",
       "      <td>1978</td>\n",
       "      <td>tonnes</td>\n",
       "      <td>7840.0</td>\n",
       "    </tr>\n",
       "    <tr>\n",
       "      <th>24406</th>\n",
       "      <td>Crops and livestock products</td>\n",
       "      <td>Ireland</td>\n",
       "      <td>Production</td>\n",
       "      <td>Tomatoes</td>\n",
       "      <td>2012</td>\n",
       "      <td>tonnes</td>\n",
       "      <td>4700.0</td>\n",
       "    </tr>\n",
       "    <tr>\n",
       "      <th>33539</th>\n",
       "      <td>Crops and livestock products</td>\n",
       "      <td>Netherlands</td>\n",
       "      <td>Yield</td>\n",
       "      <td>Tomatoes</td>\n",
       "      <td>1984</td>\n",
       "      <td>hg/ha</td>\n",
       "      <td>2121739.0</td>\n",
       "    </tr>\n",
       "    <tr>\n",
       "      <th>43294</th>\n",
       "      <td>Crops and livestock products</td>\n",
       "      <td>Somalia</td>\n",
       "      <td>Area harvested</td>\n",
       "      <td>Tomatoes</td>\n",
       "      <td>2005</td>\n",
       "      <td>ha</td>\n",
       "      <td>10482.0</td>\n",
       "    </tr>\n",
       "  </tbody>\n",
       "</table>\n",
       "</div>"
      ],
      "text/plain": [
       "                             Domain                 Area         Element  \\\n",
       "50605  Crops and livestock products              Uruguay  Area harvested   \n",
       "47379  Crops and livestock products  Trinidad and Tobago  Area harvested   \n",
       "31934  Crops and livestock products           Montenegro      Production   \n",
       "31839  Crops and livestock products             Mongolia      Production   \n",
       "33285  Crops and livestock products          Netherlands  Area harvested   \n",
       "3641   Crops and livestock products           Bangladesh      Production   \n",
       "37206  Crops and livestock products     Papua New Guinea           Yield   \n",
       "1581   Crops and livestock products            Argentina           Yield   \n",
       "6682   Crops and livestock products             Bulgaria           Yield   \n",
       "15067  Crops and livestock products   Dominican Republic  Area harvested   \n",
       "37551  Crops and livestock products             Paraguay           Yield   \n",
       "7417   Crops and livestock products           Cabo Verde      Production   \n",
       "47490  Crops and livestock products  Trinidad and Tobago      Production   \n",
       "24406  Crops and livestock products              Ireland      Production   \n",
       "33539  Crops and livestock products          Netherlands           Yield   \n",
       "43294  Crops and livestock products              Somalia  Area harvested   \n",
       "\n",
       "           Item  Year    Unit      Value  \n",
       "50605  Tomatoes  1969      ha     2700.0  \n",
       "47379  Tomatoes  1989      ha      230.0  \n",
       "31934  Potatoes  2016  tonnes    29917.0  \n",
       "31839  Potatoes  1978  tonnes    48500.0  \n",
       "33285  Potatoes  1974      ha   142012.0  \n",
       "3641   Potatoes  1992  tonnes  1379320.0  \n",
       "37206  Tomatoes  2015   hg/ha    41752.0  \n",
       "1581   Potatoes  2017   hg/ha   328586.0  \n",
       "6682   Tomatoes  1978   hg/ha   294939.0  \n",
       "15067  Tomatoes  1990      ha     5900.0  \n",
       "37551  Tomatoes  1994   hg/ha   375264.0  \n",
       "7417   Potatoes  1986  tonnes     2500.0  \n",
       "47490  Tomatoes  1978  tonnes     7840.0  \n",
       "24406  Tomatoes  2012  tonnes     4700.0  \n",
       "33539  Tomatoes  1984   hg/ha  2121739.0  \n",
       "43294  Tomatoes  2005      ha    10482.0  "
      ]
     },
     "metadata": {},
     "output_type": "display_data"
    }
   ],
   "source": [
    "df.sample(16)"
   ]
  },
  {
   "cell_type": "code",
   "execution_count": null,
   "metadata": {},
   "outputs": [
    {
     "name": "stdout",
     "output_type": "stream",
     "text": [
      "<class 'pandas.core.frame.DataFrame'>\n",
      "RangeIndex: 52937 entries, 0 to 52936\n",
      "Data columns (total 7 columns):\n",
      " #   Column   Non-Null Count  Dtype  \n",
      "---  ------   --------------  -----  \n",
      " 0   Domain   52937 non-null  object \n",
      " 1   Area     52937 non-null  object \n",
      " 2   Element  52937 non-null  object \n",
      " 3   Item     52937 non-null  object \n",
      " 4   Year     52937 non-null  int64  \n",
      " 5   Unit     52937 non-null  object \n",
      " 6   Value    52937 non-null  float64\n",
      "dtypes: float64(1), int64(1), object(5)\n",
      "memory usage: 2.8+ MB\n"
     ]
    }
   ],
   "source": [
    "df.info()"
   ]
  },
  {
   "cell_type": "code",
   "execution_count": null,
   "metadata": {},
   "outputs": [
    {
     "data": {
      "text/plain": [
       "Domain         1\n",
       "Area         195\n",
       "Element        3\n",
       "Item           2\n",
       "Year          61\n",
       "Unit           3\n",
       "Value      34923\n",
       "dtype: int64"
      ]
     },
     "metadata": {},
     "output_type": "display_data"
    }
   ],
   "source": [
    "# total unique values in df\n",
    "\n",
    "df.nunique()"
   ]
  },
  {
   "cell_type": "code",
   "execution_count": null,
   "metadata": {},
   "outputs": [
    {
     "name": "stderr",
     "output_type": "stream",
     "text": [
      "C:\\Users\\Ask78\\AppData\\Local\\Temp\\ipykernel_3428\\3578972069.py:5: SettingWithCopyWarning:\n",
      "\n",
      "\n",
      "A value is trying to be set on a copy of a slice from a DataFrame.\n",
      "Try using .loc[row_indexer,col_indexer] = value instead\n",
      "\n",
      "See the caveats in the documentation: https://pandas.pydata.org/pandas-docs/stable/user_guide/indexing.html#returning-a-view-versus-a-copy\n",
      "\n"
     ]
    },
    {
     "data": {
      "image/png": "[encoded data removed]",
      "text/plain": [
       "<Figure size 1200x800 with 1 Axes>"
      ]
     },
     "metadata": {},
     "output_type": "display_data"
    }
   ],
   "source": [
    "# Filter the data for entries related to potatoes\n",
    "potatoes_data = df[df['Item'] == 'Potatoes']\n",
    "\n",
    "# Replace \"United Kingdom of Great Britain and Northern Ireland\" with \"UK\"\n",
    "potatoes_data['Area'] = potatoes_data['Area'].replace(\n",
    "    {'United Kingdom of Great Britain and Northern Ireland': 'UK'}\n",
    ")\n",
    "\n",
    "# Group the filtered data by country to get total production for each country\n",
    "grouped_data = potatoes_data.groupby('Area')['Value'].sum().reset_index()\n",
    "\n",
    "# Sort the data by production in descending order to get top 10\n",
    "top_10 = grouped_data.sort_values(by='Value', ascending=False).head(20)\n",
    "\n",
    "# Plot the top 10 potato-producing countries\n",
    "plt.figure(figsize=(12, 8))\n",
    "plt.bar(top_10['Area'], top_10['Value'], color='skyblue')\n",
    "plt.xlabel('Country')\n",
    "plt.ylabel('Potato Production')\n",
    "plt.title('Top 10 Potato-Producing Countries')\n",
    "plt.xticks(rotation=45, ha='right')\n",
    "plt.tight_layout()\n",
    "plt.show()"
   ]
  },
  {
   "cell_type": "code",
   "execution_count": null,
   "metadata": {},
   "outputs": [
    {
     "name": "stderr",
     "output_type": "stream",
     "text": [
      "C:\\Users\\Ask78\\AppData\\Local\\Temp\\ipykernel_3428\\2313917089.py:2: SettingWithCopyWarning:\n",
      "\n",
      "\n",
      "A value is trying to be set on a copy of a slice from a DataFrame.\n",
      "Try using .loc[row_indexer,col_indexer] = value instead\n",
      "\n",
      "See the caveats in the documentation: https://pandas.pydata.org/pandas-docs/stable/user_guide/indexing.html#returning-a-view-versus-a-copy\n",
      "\n"
     ]
    },
    {
     "data": {
      "image/png": "[encoded data removed]",
      "text/plain": [
       "<Figure size 1000x1200 with 1 Axes>"
      ]
     },
     "metadata": {},
     "output_type": "display_data"
    }
   ],
   "source": [
    "# Replace \"United Kingdom of Great Britain and Northern Ireland\" with \"UK\"\n",
    "potatoes_data['Area'] = potatoes_data['Area'].replace(\n",
    "    {'United Kingdom of Great Britain and Northern Ireland': 'UK'}\n",
    ")\n",
    "\n",
    "# Group the filtered data by year and country to get total production for each year in each country\n",
    "grouped_data = potatoes_data.groupby(['Area'])['Value'].sum().reset_index()\n",
    "\n",
    "# Sort the data by total production in descending order\n",
    "top_20 = grouped_data.nlargest(20, 'Value')\n",
    "\n",
    "# Create a horizontal bar plot with a dark background\n",
    "plt.figure(figsize=(10, 12))\n",
    "sns.barplot(x='Value', y='Area', data=top_20, palette='viridis', orient='h')\n",
    "plt.xlabel('Potato Production')\n",
    "plt.ylabel('Country')\n",
    "plt.title('Top 20 Countries with Highest Potato Production')\n",
    "\n",
    "# Adding rounded integer values on the bars\n",
    "for index, value in enumerate(top_20['Value']):\n",
    "    plt.text(value, index, f'{int(value):,}', ha='center', va='center', fontsize=10)\n",
    "\n",
    "# Inverting the y-axis for better visualization (largest at the top)\n",
    "plt.gca().invert_yaxis()\n",
    "\n",
    "plt.tight_layout()\n",
    "plt.show()"
   ]
  },
  {
   "cell_type": "code",
   "execution_count": null,
   "metadata": {},
   "outputs": [
    {
     "data": {
      "application/vnd.plotly.v1+json": {
       "config": {
        "plotlyServerURL": "https://plot.ly"
       },
       "data": [
        {
         "hovertemplate": "Area=China<br>Year=%{x}<br>Value=%{y}<extra></extra>",
         "legendgroup": "China",
         "line": {
          "color": "#636efa",
          "dash": "solid"
         },
         "marker": {
          "symbol": "circle"
         },
         "mode": "lines+markers",
         "name": "China",
         "orientation": "v",
         "showlegend": true,
         "type": "scatter",
         "x": [
          1961,
          1962,
          1963,
          1964,
          1965,
          1966,
          1967,
          1968,
          1969,
          1970,
          1971,
          1972,
          1973,
          1974,
          1975,
          1976,
          1977,
          1978,
          1979,
          1980,
          1981,
          1982,
          1983,
          1984,
          1985,
          1986,
          1987,
          1988,
          1989,
          1990,
          1991,
          1992,
          1993,
          1994,
          1995,
          1996,
          1997,
          1998,
          1999,
          2000,
          2001,
          2002,
          2003,
          2004,
          2005,
          2006,
          2007,
          2008,
          2009,
          2010,
          2011,
          2012,
          2013,
          2014,
          2015,
          2016,
          2017,
          2018,
          2019,
          2020,
          2021
         ],
         "xaxis": "x",
         "y": [
          14207970,
          15308800,
          13511079,
          15620764,
          17717370,
          20017234,
          19924890,
          19824120,
          21230423,
          23526042,
          24137057,
          25829040,
          29028801,
          28028613,
          26443560,
          24647858,
          28749361,
          30827292,
          27952758,
          28199036,
          27100426,
          28092159,
          30256693,
          30651664,
          29273456,
          27543648,
          29312110,
          34411628,
          33920339,
          34860573,
          33427964,
          40949624,
          49179248,
          47182465,
          49552976,
          56958712,
          61235785,
          68843269,
          60686502,
          71183626,
          69454980,
          75045353,
          72813413,
          76998583,
          75938069,
          68902642,
          68329462,
          73305671,
          74877485,
          81637114,
          86812894,
          89604302,
          91129568,
          89295907,
          87854427.97,
          89968513,
          93580875,
          95271888,
          93823082,
          97726964.05,
          100308092
         ],
         "yaxis": "y"
        },
        {
         "hovertemplate": "Area=China, mainland<br>Year=%{x}<br>Value=%{y}<extra></extra>",
         "legendgroup": "China, mainland",
         "line": {
          "color": "#EF553B",
          "dash": "solid"
         },
         "marker": {
          "symbol": "circle"
         },
         "mode": "lines+markers",
         "name": "China, mainland",
         "orientation": "v",
         "showlegend": true,
         "type": "scatter",
         "x": [
          1961,
          1962,
          1963,
          1964,
          1965,
          1966,
          1967,
          1968,
          1969,
          1970,
          1971,
          1972,
          1973,
          1974,
          1975,
          1976,
          1977,
          1978,
          1979,
          1980,
          1981,
          1982,
          1983,
          1984,
          1985,
          1986,
          1987,
          1988,
          1989,
          1990,
          1991,
          1992,
          1993,
          1994,
          1995,
          1996,
          1997,
          1998,
          1999,
          2000,
          2001,
          2002,
          2003,
          2004,
          2005,
          2006,
          2007,
          2008,
          2009,
          2010,
          2011,
          2012,
          2013,
          2014,
          2015,
          2016,
          2017,
          2018,
          2019,
          2020,
          2021
         ],
         "xaxis": "x",
         "y": [
          14299231,
          15392000,
          13580000,
          15687500,
          17794118,
          20090000,
          19989500,
          19889000,
          21301579,
          23607500,
          24204762,
          25902174,
          29135000,
          28130000,
          26515714,
          24713000,
          28849375,
          30923482,
          28025365,
          28272435,
          27172792,
          28168898,
          30346754,
          30729762,
          29335950,
          27600000,
          29366464,
          34482107,
          33987566,
          34940866,
          33389878,
          40897854,
          49140837,
          47144246,
          49517713,
          56918230,
          61181063,
          68802116,
          60648669,
          71138489,
          69421116,
          75005327,
          72767346,
          76960765,
          75894559,
          68850956,
          68280013,
          73243365,
          74823831,
          81573883,
          86747078,
          89556955,
          91076139,
          89237292,
          87787616.97,
          89907746,
          93523484,
          95206922,
          93758038,
          97671588,
          100243149
         ],
         "yaxis": "y"
        },
        {
         "hovertemplate": "Area=France<br>Year=%{x}<br>Value=%{y}<extra></extra>",
         "legendgroup": "France",
         "line": {
          "color": "#00cc96",
          "dash": "solid"
         },
         "marker": {
          "symbol": "circle"
         },
         "mode": "lines+markers",
         "name": "France",
         "orientation": "v",
         "showlegend": true,
         "type": "scatter",
         "x": [
          1961,
          1962,
          1963,
          1964,
          1965,
          1966,
          1967,
          1968,
          1969,
          1970,
          1971,
          1972,
          1973,
          1974,
          1975,
          1976,
          1977,
          1978,
          1979,
          1980,
          1981,
          1982,
          1983,
          1984,
          1985,
          1986,
          1987,
          1988,
          1989,
          1990,
          1991,
          1992,
          1993,
          1994,
          1995,
          1996,
          1997,
          1998,
          1999,
          2000,
          2001,
          2002,
          2003,
          2004,
          2005,
          2006,
          2007,
          2008,
          2009,
          2010,
          2011,
          2012,
          2013,
          2014,
          2015,
          2016,
          2017,
          2018,
          2019,
          2020,
          2021
         ],
         "xaxis": "x",
         "y": [
          15382298,
          14406489,
          17007265,
          12424839,
          11993474,
          11348220,
          11123565,
          10732894,
          9682017,
          8608684,
          9230773,
          7950671,
          7908415,
          8053933,
          7160088,
          4761086,
          8363010,
          8013161,
          7682950,
          7135840,
          6954852,
          7330559,
          6211500,
          7496783,
          8351458,
          7689826,
          8063837,
          7326216,
          5891645,
          5208705,
          5896713.8,
          7112963.2,
          6250419.8,
          5872742.4,
          6265248.2,
          6634747.9,
          7074560.1,
          6440001.3,
          7096168.2,
          6999114.1,
          6585619.9,
          7460402,
          6916197.2,
          7869293,
          7183250,
          6923047,
          7801018.3,
          7409472.9,
          7719687.7,
          7200691,
          8067853,
          6943923.6,
          7549774,
          8733482,
          7712394,
          7522379,
          9181869,
          8453826,
          9180797,
          9311617,
          9623557
         ],
         "yaxis": "y"
        },
        {
         "hovertemplate": "Area=Germany<br>Year=%{x}<br>Value=%{y}<extra></extra>",
         "legendgroup": "Germany",
         "line": {
          "color": "#ab63fa",
          "dash": "solid"
         },
         "marker": {
          "symbol": "circle"
         },
         "mode": "lines+markers",
         "name": "Germany",
         "orientation": "v",
         "showlegend": true,
         "type": "scatter",
         "x": [
          1961,
          1962,
          1963,
          1964,
          1965,
          1966,
          1967,
          1968,
          1969,
          1970,
          1971,
          1972,
          1973,
          1974,
          1975,
          1976,
          1977,
          1978,
          1979,
          1980,
          1981,
          1982,
          1983,
          1984,
          1985,
          1986,
          1987,
          1988,
          1989,
          1990,
          1991,
          1992,
          1993,
          1994,
          1995,
          1996,
          1997,
          1998,
          1999,
          2000,
          2001,
          2002,
          2003,
          2004,
          2005,
          2006,
          2007,
          2008,
          2009,
          2010,
          2011,
          2012,
          2013,
          2014,
          2015,
          2016,
          2017,
          2018,
          2019,
          2020,
          2021
         ],
         "xaxis": "x",
         "y": [
          31784331,
          40318604,
          40601051,
          35301491,
          32664821,
          33310495,
          37005856,
          33405343,
          26220217,
          30799377,
          26002325,
          28564045,
          26429183,
          29308894,
          19702455,
          17802715,
          22888114,
          22448785,
          23578948,
          18174628,
          19819472,
          17689916,
          14276042,
          20961407,
          22065035,
          19076817,
          20544267,
          20472342,
          18025872,
          15290168,
          10841217,
          11559837,
          12965119,
          10291505,
          10527509,
          13825468,
          12346923,
          12016241,
          12251929,
          13930768,
          12192702,
          11789160,
          10548120,
          13780581,
          12320898,
          10670580,
          12342200,
          12066406,
          12389845,
          10796215,
          12553465,
          11351470,
          10310758,
          12326254,
          11045016,
          11458727,
          12438364,
          9526719,
          11264161,
          12416940,
          12008344
         ],
         "yaxis": "y"
        },
        {
         "hovertemplate": "Area=India<br>Year=%{x}<br>Value=%{y}<extra></extra>",
         "legendgroup": "India",
         "line": {
          "color": "#FFA15A",
          "dash": "solid"
         },
         "marker": {
          "symbol": "circle"
         },
         "mode": "lines+markers",
         "name": "India",
         "orientation": "v",
         "showlegend": true,
         "type": "scatter",
         "x": [
          1961,
          1962,
          1963,
          1964,
          1965,
          1966,
          1967,
          1968,
          1969,
          1970,
          1971,
          1972,
          1973,
          1974,
          1975,
          1976,
          1977,
          1978,
          1979,
          1980,
          1981,
          1982,
          1983,
          1984,
          1985,
          1986,
          1987,
          1988,
          1989,
          1990,
          1991,
          1992,
          1993,
          1994,
          1995,
          1996,
          1997,
          1998,
          1999,
          2000,
          2001,
          2002,
          2003,
          2004,
          2005,
          2006,
          2007,
          2008,
          2009,
          2010,
          2011,
          2012,
          2013,
          2014,
          2015,
          2016,
          2017,
          2018,
          2019,
          2020,
          2021
         ],
         "xaxis": "x",
         "y": [
          3166507,
          2879041,
          3859477,
          3070482,
          4118033,
          4640094,
          4069203,
          4818110,
          5340013,
          4487483,
          5388855,
          5415499,
          5043808,
          5493957,
          6918782,
          8045784,
          7906031,
          8922982,
          11065648,
          9133321,
          10534104,
          10804457,
          10826456,
          13099088,
          13567664,
          11389439,
          13725021,
          15089794,
          15948990,
          15867936,
          16303640,
          19490394,
          19868024,
          18605601,
          18633420,
          20122213,
          25658613,
          19007220,
          23950612,
          26527443,
          23637627,
          25909773,
          24671808,
          29598591,
          30500508,
          30929720,
          30506501,
          36646973,
          36407303,
          38611899,
          44429840,
          43607530,
          47563406,
          48648224,
          50316257,
          45739087,
          51007061,
          53691542,
          52593971,
          50849772,
          56719237
         ],
         "yaxis": "y"
        },
        {
         "hovertemplate": "Area=Poland<br>Year=%{x}<br>Value=%{y}<extra></extra>",
         "legendgroup": "Poland",
         "line": {
          "color": "#19d3f3",
          "dash": "solid"
         },
         "marker": {
          "symbol": "circle"
         },
         "mode": "lines+markers",
         "name": "Poland",
         "orientation": "v",
         "showlegend": true,
         "type": "scatter",
         "x": [
          1961,
          1962,
          1963,
          1964,
          1965,
          1966,
          1967,
          1968,
          1969,
          1970,
          1971,
          1972,
          1973,
          1974,
          1975,
          1976,
          1977,
          1978,
          1979,
          1980,
          1981,
          1982,
          1983,
          1984,
          1985,
          1986,
          1987,
          1988,
          1989,
          1990,
          1991,
          1992,
          1993,
          1994,
          1995,
          1996,
          1997,
          1998,
          1999,
          2000,
          2001,
          2002,
          2003,
          2004,
          2005,
          2006,
          2007,
          2008,
          2009,
          2010,
          2011,
          2012,
          2013,
          2014,
          2015,
          2016,
          2017,
          2018,
          2019,
          2020,
          2021
         ],
         "xaxis": "x",
         "y": [
          48182548,
          40857059,
          47865986,
          50858741,
          45584501,
          48678705,
          51130781,
          53184480,
          47818707,
          53217714,
          42619605,
          51574900,
          54800486,
          51383477,
          49189801,
          52619664,
          43753114,
          49205199,
          52215644,
          28846878,
          45007846,
          34275102,
          36848148,
          39758139,
          38815660,
          41240456,
          38373742,
          36758580,
          36433994,
          38345977,
          30938420,
          25278166,
          38237224,
          24890640,
          26577192,
          28761810,
          22241111,
          27444051,
          21351732,
          25676761,
          20735362,
          16519440,
          14676587,
          14908170,
          11133730,
          9729600,
          12567678,
          11201591,
          10401770,
          9059714,
          9998625,
          9708651,
          7847185,
          8243768,
          6824231,
          9468645,
          9779559,
          7854226,
          6998383,
          8433238,
          7617568
         ],
         "yaxis": "y"
        },
        {
         "hovertemplate": "Area=Russian Federation<br>Year=%{x}<br>Value=%{y}<extra></extra>",
         "legendgroup": "Russian Federation",
         "line": {
          "color": "#FF6692",
          "dash": "solid"
         },
         "marker": {
          "symbol": "circle"
         },
         "mode": "lines+markers",
         "name": "Russian Federation",
         "orientation": "v",
         "showlegend": true,
         "type": "scatter",
         "x": [
          1992,
          1993,
          1994,
          1995,
          1996,
          1997,
          1998,
          1999,
          2000,
          2001,
          2002,
          2003,
          2004,
          2005,
          2006,
          2007,
          2008,
          2009,
          2010,
          2011,
          2012,
          2013,
          2014,
          2015,
          2016,
          2017,
          2018,
          2019,
          2020,
          2021
         ],
         "xaxis": "x",
         "y": [
          41814526,
          41225856,
          37230378,
          43417580,
          41021275,
          38403323,
          32032002,
          30994795,
          32383765,
          32328213,
          29644663,
          31990978,
          30395589,
          30533413,
          30513074,
          29387772,
          31081126,
          33458975,
          23349882,
          35032421,
          31864112,
          32431594,
          33752716.6,
          35916749.4,
          24046632,
          23205741,
          23878954,
          23491676.5,
          20951891,
          19597837.1
         ],
         "yaxis": "y"
        },
        {
         "hovertemplate": "Area=USSR<br>Year=%{x}<br>Value=%{y}<extra></extra>",
         "legendgroup": "USSR",
         "line": {
          "color": "#B6E880",
          "dash": "solid"
         },
         "marker": {
          "symbol": "circle"
         },
         "mode": "lines+markers",
         "name": "USSR",
         "orientation": "v",
         "showlegend": true,
         "type": "scatter",
         "x": [
          1961,
          1962,
          1963,
          1964,
          1965,
          1966,
          1967,
          1968,
          1969,
          1970,
          1971,
          1972,
          1973,
          1974,
          1975,
          1976,
          1977,
          1978,
          1979,
          1980,
          1981,
          1982,
          1983,
          1984,
          1985,
          1986,
          1987,
          1988,
          1989,
          1990,
          1991
         ],
         "xaxis": "x",
         "y": [
          93282965,
          78443226,
          80416530,
          102269934,
          97390968,
          96349695,
          103909589,
          110608098,
          99992315,
          104967027,
          100666382,
          86387411,
          116352972,
          89106493,
          96727120,
          92309082,
          90837370,
          93288300,
          98045703,
          74048736,
          79087428,
          85157014,
          89910471,
          92470213,
          79583008,
          93695805,
          82268667,
          69044513,
          78333189,
          69546467,
          70960101
         ],
         "yaxis": "y"
        },
        {
         "hovertemplate": "Area=Ukraine<br>Year=%{x}<br>Value=%{y}<extra></extra>",
         "legendgroup": "Ukraine",
         "line": {
          "color": "#FF97FF",
          "dash": "solid"
         },
         "marker": {
          "symbol": "circle"
         },
         "mode": "lines+markers",
         "name": "Ukraine",
         "orientation": "v",
         "showlegend": true,
         "type": "scatter",
         "x": [
          1992,
          1993,
          1994,
          1995,
          1996,
          1997,
          1998,
          1999,
          2000,
          2001,
          2002,
          2003,
          2004,
          2005,
          2006,
          2007,
          2008,
          2009,
          2010,
          2011,
          2012,
          2013,
          2014,
          2015,
          2016,
          2017,
          2018,
          2019,
          2020,
          2021
         ],
         "xaxis": "x",
         "y": [
          22101009,
          22679956,
          17734449,
          16356233,
          20077759,
          18384075,
          17020004,
          14356126,
          21590732,
          19056279,
          18316174,
          20156183,
          22444186,
          21106688,
          21061799,
          20686739,
          21093028,
          21217198,
          20249381,
          25859039,
          24855301,
          23812354,
          25212597,
          22291690,
          23227720,
          23699257,
          23994368,
          21732859,
          22320434,
          22805950
         ],
         "yaxis": "y"
        },
        {
         "hovertemplate": "Area=United States of America<br>Year=%{x}<br>Value=%{y}<extra></extra>",
         "legendgroup": "United States of America",
         "line": {
          "color": "#FECB52",
          "dash": "solid"
         },
         "marker": {
          "symbol": "circle"
         },
         "mode": "lines+markers",
         "name": "United States of America",
         "orientation": "v",
         "showlegend": true,
         "type": "scatter",
         "x": [
          1961,
          1962,
          1963,
          1964,
          1965,
          1966,
          1967,
          1968,
          1969,
          1970,
          1971,
          1972,
          1973,
          1974,
          1975,
          1976,
          1977,
          1978,
          1979,
          1980,
          1981,
          1982,
          1983,
          1984,
          1985,
          1986,
          1987,
          1988,
          1989,
          1990,
          1991,
          1992,
          1993,
          1994,
          1995,
          1996,
          1997,
          1998,
          1999,
          2000,
          2001,
          2002,
          2003,
          2004,
          2005,
          2006,
          2007,
          2008,
          2009,
          2010,
          2011,
          2012,
          2013,
          2014,
          2015,
          2016,
          2017,
          2018,
          2019,
          2020,
          2021
         ],
         "xaxis": "x",
         "y": [
          14126289,
          12783762,
          13071356,
          11668922,
          14006504,
          14766969,
          14698229,
          14201681,
          15002000,
          15607809,
          15306355,
          14216515,
          14395826,
          16371140,
          15402023,
          17072066,
          16962194,
          17471925,
          16348440,
          14547145,
          16259499,
          16936444,
          15942354,
          17260982,
          19329397,
          17234940,
          18519994,
          16994665,
          17645615,
          19122517,
          19839787,
          20188733,
          20420061,
          22233158,
          21108777,
          23615267,
          22121447,
          22521569,
          22627256,
          24266445,
          20748401,
          21700254,
          21700242,
          21585033,
          20099577,
          20884007,
          21077671,
          19694617,
          20509414,
          19207760,
          20389527,
          22009182,
          20604347,
          20953377,
          20908430,
          21332710,
          21360007,
          21329504,
          20138162,
          19937115,
          19451767
         ],
         "yaxis": "y"
        }
       ],
       "layout": {
        "legend": {
         "title": {
          "text": "Country"
         },
         "tracegroupgap": 0
        },
        "template": {
         "data": {
          "bar": [
           {
            "error_x": {
             "color": "#2a3f5f"
            },
            "error_y": {
             "color": "#2a3f5f"
            },
            "marker": {
             "line": {
              "color": "#E5ECF6",
              "width": 0.5
             },
             "pattern": {
              "fillmode": "overlay",
              "size": 10,
              "solidity": 0.2
             }
            },
            "type": "bar"
           }
          ],
          "barpolar": [
           {
            "marker": {
             "line": {
              "color": "#E5ECF6",
              "width": 0.5
             },
             "pattern": {
              "fillmode": "overlay",
              "size": 10,
              "solidity": 0.2
             }
            },
            "type": "barpolar"
           }
          ],
          "carpet": [
           {
            "aaxis": {
             "endlinecolor": "#2a3f5f",
             "gridcolor": "white",
             "linecolor": "white",
             "minorgridcolor": "white",
             "startlinecolor": "#2a3f5f"
            },
            "baxis": {
             "endlinecolor": "#2a3f5f",
             "gridcolor": "white",
             "linecolor": "white",
             "minorgridcolor": "white",
             "startlinecolor": "#2a3f5f"
            },
            "type": "carpet"
           }
          ],
          "choropleth": [
           {
            "colorbar": {
             "outlinewidth": 0,
             "ticks": ""
            },
            "type": "choropleth"
           }
          ],
          "contour": [
           {
            "colorbar": {
             "outlinewidth": 0,
             "ticks": ""
            },
            "colorscale": [
             [
              0,
              "#0d0887"
             ],
             [
              0.1111111111111111,
              "#46039f"
             ],
             [
              0.2222222222222222,
              "#7201a8"
             ],
             [
              0.3333333333333333,
              "#9c179e"
             ],
             [
              0.4444444444444444,
              "#bd3786"
             ],
             [
              0.5555555555555556,
              "#d8576b"
             ],
             [
              0.6666666666666666,
              "#ed7953"
             ],
             [
              0.7777777777777778,
              "#fb9f3a"
             ],
             [
              0.8888888888888888,
              "#fdca26"
             ],
             [
              1,
              "#f0f921"
             ]
            ],
            "type": "contour"
           }
          ],
          "contourcarpet": [
           {
            "colorbar": {
             "outlinewidth": 0,
             "ticks": ""
            },
            "type": "contourcarpet"
           }
          ],
          "heatmap": [
           {
            "colorbar": {
             "outlinewidth": 0,
             "ticks": ""
            },
            "colorscale": [
             [
              0,
              "#0d0887"
             ],
             [
              0.1111111111111111,
              "#46039f"
             ],
             [
              0.2222222222222222,
              "#7201a8"
             ],
             [
              0.3333333333333333,
              "#9c179e"
             ],
             [
              0.4444444444444444,
              "#bd3786"
             ],
             [
              0.5555555555555556,
              "#d8576b"
             ],
             [
              0.6666666666666666,
              "#ed7953"
             ],
             [
              0.7777777777777778,
              "#fb9f3a"
             ],
             [
              0.8888888888888888,
              "#fdca26"
             ],
             [
              1,
              "#f0f921"
             ]
            ],
            "type": "heatmap"
           }
          ],
          "heatmapgl": [
           {
            "colorbar": {
             "outlinewidth": 0,
             "ticks": ""
            },
            "colorscale": [
             [
              0,
              "#0d0887"
             ],
             [
              0.1111111111111111,
              "#46039f"
             ],
             [
              0.2222222222222222,
              "#7201a8"
             ],
             [
              0.3333333333333333,
              "#9c179e"
             ],
             [
              0.4444444444444444,
              "#bd3786"
             ],
             [
              0.5555555555555556,
              "#d8576b"
             ],
             [
              0.6666666666666666,
              "#ed7953"
             ],
             [
              0.7777777777777778,
              "#fb9f3a"
             ],
             [
              0.8888888888888888,
              "#fdca26"
             ],
             [
              1,
              "#f0f921"
             ]
            ],
            "type": "heatmapgl"
           }
          ],
          "histogram": [
           {
            "marker": {
             "pattern": {
              "fillmode": "overlay",
              "size": 10,
              "solidity": 0.2
             }
            },
            "type": "histogram"
           }
          ],
          "histogram2d": [
           {
            "colorbar": {
             "outlinewidth": 0,
             "ticks": ""
            },
            "colorscale": [
             [
              0,
              "#0d0887"
             ],
             [
              0.1111111111111111,
              "#46039f"
             ],
             [
              0.2222222222222222,
              "#7201a8"
             ],
             [
              0.3333333333333333,
              "#9c179e"
             ],
             [
              0.4444444444444444,
              "#bd3786"
             ],
             [
              0.5555555555555556,
              "#d8576b"
             ],
             [
              0.6666666666666666,
              "#ed7953"
             ],
             [
              0.7777777777777778,
              "#fb9f3a"
             ],
             [
              0.8888888888888888,
              "#fdca26"
             ],
             [
              1,
              "#f0f921"
             ]
            ],
            "type": "histogram2d"
           }
          ],
          "histogram2dcontour": [
           {
            "colorbar": {
             "outlinewidth": 0,
             "ticks": ""
            },
            "colorscale": [
             [
              0,
              "#0d0887"
             ],
             [
              0.1111111111111111,
              "#46039f"
             ],
             [
              0.2222222222222222,
              "#7201a8"
             ],
             [
              0.3333333333333333,
              "#9c179e"
             ],
             [
              0.4444444444444444,
              "#bd3786"
             ],
             [
              0.5555555555555556,
              "#d8576b"
             ],
             [
              0.6666666666666666,
              "#ed7953"
             ],
             [
              0.7777777777777778,
              "#fb9f3a"
             ],
             [
              0.8888888888888888,
              "#fdca26"
             ],
             [
              1,
              "#f0f921"
             ]
            ],
            "type": "histogram2dcontour"
           }
          ],
          "mesh3d": [
           {
            "colorbar": {
             "outlinewidth": 0,
             "ticks": ""
            },
            "type": "mesh3d"
           }
          ],
          "parcoords": [
           {
            "line": {
             "colorbar": {
              "outlinewidth": 0,
              "ticks": ""
             }
            },
            "type": "parcoords"
           }
          ],
          "pie": [
           {
            "automargin": true,
            "type": "pie"
           }
          ],
          "scatter": [
           {
            "fillpattern": {
             "fillmode": "overlay",
             "size": 10,
             "solidity": 0.2
            },
            "type": "scatter"
           }
          ],
          "scatter3d": [
           {
            "line": {
             "colorbar": {
              "outlinewidth": 0,
              "ticks": ""
             }
            },
            "marker": {
             "colorbar": {
              "outlinewidth": 0,
              "ticks": ""
             }
            },
            "type": "scatter3d"
           }
          ],
          "scattercarpet": [
           {
            "marker": {
             "colorbar": {
              "outlinewidth": 0,
              "ticks": ""
             }
            },
            "type": "scattercarpet"
           }
          ],
          "scattergeo": [
           {
            "marker": {
             "colorbar": {
              "outlinewidth": 0,
              "ticks": ""
             }
            },
            "type": "scattergeo"
           }
          ],
          "scattergl": [
           {
            "marker": {
             "colorbar": {
              "outlinewidth": 0,
              "ticks": ""
             }
            },
            "type": "scattergl"
           }
          ],
          "scattermapbox": [
           {
            "marker": {
             "colorbar": {
              "outlinewidth": 0,
              "ticks": ""
             }
            },
            "type": "scattermapbox"
           }
          ],
          "scatterpolar": [
           {
            "marker": {
             "colorbar": {
              "outlinewidth": 0,
              "ticks": ""
             }
            },
            "type": "scatterpolar"
           }
          ],
          "scatterpolargl": [
           {
            "marker": {
             "colorbar": {
              "outlinewidth": 0,
              "ticks": ""
             }
            },
            "type": "scatterpolargl"
           }
          ],
          "scatterternary": [
           {
            "marker": {
             "colorbar": {
              "outlinewidth": 0,
              "ticks": ""
             }
            },
            "type": "scatterternary"
           }
          ],
          "surface": [
           {
            "colorbar": {
             "outlinewidth": 0,
             "ticks": ""
            },
            "colorscale": [
             [
              0,
              "#0d0887"
             ],
             [
              0.1111111111111111,
              "#46039f"
             ],
             [
              0.2222222222222222,
              "#7201a8"
             ],
             [
              0.3333333333333333,
              "#9c179e"
             ],
             [
              0.4444444444444444,
              "#bd3786"
             ],
             [
              0.5555555555555556,
              "#d8576b"
             ],
             [
              0.6666666666666666,
              "#ed7953"
             ],
             [
              0.7777777777777778,
              "#fb9f3a"
             ],
             [
              0.8888888888888888,
              "#fdca26"
             ],
             [
              1,
              "#f0f921"
             ]
            ],
            "type": "surface"
           }
          ],
          "table": [
           {
            "cells": {
             "fill": {
              "color": "#EBF0F8"
             },
             "line": {
              "color": "white"
             }
            },
            "header": {
             "fill": {
              "color": "#C8D4E3"
             },
             "line": {
              "color": "white"
             }
            },
            "type": "table"
           }
          ]
         },
         "layout": {
          "annotationdefaults": {
           "arrowcolor": "#2a3f5f",
           "arrowhead": 0,
           "arrowwidth": 1
          },
          "autotypenumbers": "strict",
          "coloraxis": {
           "colorbar": {
            "outlinewidth": 0,
            "ticks": ""
           }
          },
          "colorscale": {
           "diverging": [
            [
             0,
             "#8e0152"
            ],
            [
             0.1,
             "#c51b7d"
            ],
            [
             0.2,
             "#de77ae"
            ],
            [
             0.3,
             "#f1b6da"
            ],
            [
             0.4,
             "#fde0ef"
            ],
            [
             0.5,
             "#f7f7f7"
            ],
            [
             0.6,
             "#e6f5d0"
            ],
            [
             0.7,
             "#b8e186"
            ],
            [
             0.8,
             "#7fbc41"
            ],
            [
             0.9,
             "#4d9221"
            ],
            [
             1,
             "#276419"
            ]
           ],
           "sequential": [
            [
             0,
             "#0d0887"
            ],
            [
             0.1111111111111111,
             "#46039f"
            ],
            [
             0.2222222222222222,
             "#7201a8"
            ],
            [
             0.3333333333333333,
             "#9c179e"
            ],
            [
             0.4444444444444444,
             "#bd3786"
            ],
            [
             0.5555555555555556,
             "#d8576b"
            ],
            [
             0.6666666666666666,
             "#ed7953"
            ],
            [
             0.7777777777777778,
             "#fb9f3a"
            ],
            [
             0.8888888888888888,
             "#fdca26"
            ],
            [
             1,
             "#f0f921"
            ]
           ],
           "sequentialminus": [
            [
             0,
             "#0d0887"
            ],
            [
             0.1111111111111111,
             "#46039f"
            ],
            [
             0.2222222222222222,
             "#7201a8"
            ],
            [
             0.3333333333333333,
             "#9c179e"
            ],
            [
             0.4444444444444444,
             "#bd3786"
            ],
            [
             0.5555555555555556,
             "#d8576b"
            ],
            [
             0.6666666666666666,
             "#ed7953"
            ],
            [
             0.7777777777777778,
             "#fb9f3a"
            ],
            [
             0.8888888888888888,
             "#fdca26"
            ],
            [
             1,
             "#f0f921"
            ]
           ]
          },
          "colorway": [
           "#636efa",
           "#EF553B",
           "#00cc96",
           "#ab63fa",
           "#FFA15A",
           "#19d3f3",
           "#FF6692",
           "#B6E880",
           "#FF97FF",
           "#FECB52"
          ],
          "font": {
           "color": "#2a3f5f"
          },
          "geo": {
           "bgcolor": "white",
           "lakecolor": "white",
           "landcolor": "#E5ECF6",
           "showlakes": true,
           "showland": true,
           "subunitcolor": "white"
          },
          "hoverlabel": {
           "align": "left"
          },
          "hovermode": "closest",
          "mapbox": {
           "style": "light"
          },
          "paper_bgcolor": "white",
          "plot_bgcolor": "#E5ECF6",
          "polar": {
           "angularaxis": {
            "gridcolor": "white",
            "linecolor": "white",
            "ticks": ""
           },
           "bgcolor": "#E5ECF6",
           "radialaxis": {
            "gridcolor": "white",
            "linecolor": "white",
            "ticks": ""
           }
          },
          "scene": {
           "xaxis": {
            "backgroundcolor": "#E5ECF6",
            "gridcolor": "white",
            "gridwidth": 2,
            "linecolor": "white",
            "showbackground": true,
            "ticks": "",
            "zerolinecolor": "white"
           },
           "yaxis": {
            "backgroundcolor": "#E5ECF6",
            "gridcolor": "white",
            "gridwidth": 2,
            "linecolor": "white",
            "showbackground": true,
            "ticks": "",
            "zerolinecolor": "white"
           },
           "zaxis": {
            "backgroundcolor": "#E5ECF6",
            "gridcolor": "white",
            "gridwidth": 2,
            "linecolor": "white",
            "showbackground": true,
            "ticks": "",
            "zerolinecolor": "white"
           }
          },
          "shapedefaults": {
           "line": {
            "color": "#2a3f5f"
           }
          },
          "ternary": {
           "aaxis": {
            "gridcolor": "white",
            "linecolor": "white",
            "ticks": ""
           },
           "baxis": {
            "gridcolor": "white",
            "linecolor": "white",
            "ticks": ""
           },
           "bgcolor": "#E5ECF6",
           "caxis": {
            "gridcolor": "white",
            "linecolor": "white",
            "ticks": ""
           }
          },
          "title": {
           "x": 0.05
          },
          "xaxis": {
           "automargin": true,
           "gridcolor": "white",
           "linecolor": "white",
           "ticks": "",
           "title": {
            "standoff": 15
           },
           "zerolinecolor": "white",
           "zerolinewidth": 2
          },
          "yaxis": {
           "automargin": true,
           "gridcolor": "white",
           "linecolor": "white",
           "ticks": "",
           "title": {
            "standoff": 15
           },
           "zerolinecolor": "white",
           "zerolinewidth": 2
          }
         }
        },
        "title": {
         "text": "Potato Production by Year for Top 20 Countries"
        },
        "xaxis": {
         "anchor": "y",
         "domain": [
          0,
          1
         ],
         "title": {
          "text": "Year"
         }
        },
        "yaxis": {
         "anchor": "x",
         "domain": [
          0,
          1
         ],
         "title": {
          "text": "Potato Production"
         }
        }
       }
      }
     },
     "metadata": {},
     "output_type": "display_data"
    }
   ],
   "source": [
    "import plotly.express as px\n",
    "# Replace \"United Kingdom of Great Britain and Northern Ireland\" with \"UK\"\n",
    "potatoes_data.loc[potatoes_data['Area'] == 'United Kingdom of Great Britain and Northern Ireland', 'Area'] = 'UK'\n",
    "\n",
    "# Group the filtered data by country to get total production for each country over all years\n",
    "total_production = potatoes_data.groupby('Area')['Value'].sum().reset_index()\n",
    "\n",
    "# Select the top 20 countries with the highest total production\n",
    "top_20_countries = total_production.nlargest(10, 'Value')['Area'].tolist()\n",
    "\n",
    "# Filter the original data for only the top 20 countries\n",
    "potatoes_top_20 = potatoes_data[potatoes_data['Area'].isin(top_20_countries)]\n",
    "\n",
    "# Group the filtered data by year and country to get total production for each year in each country\n",
    "grouped_data = potatoes_top_20.groupby(['Area', 'Year'])['Value'].sum().reset_index()\n",
    "\n",
    "# Create an animated line chart using Plotly\n",
    "fig = px.line(grouped_data, x='Year', y='Value', color='Area', title='Potato Production by Year for Top 20 Countries')\n",
    "fig.update_layout(xaxis_title='Year', yaxis_title='Potato Production', legend_title='Country')\n",
    "fig.update_traces(mode='lines+markers')  # Add markers to the lines for better visibility\n",
    "\n",
    "# Create and display the animated plot\n",
    "fig.show()"
   ]
  }
 ],
 "metadata": {
  "kernelspec": {
   "display_name": "Python 3",
   "language": "python",
   "name": "python3"
  },
  "language_info": {
   "name": "python",
   "version": "3.12.2"
  }
 },
 "nbformat": 4,
 "nbformat_minor": 2
}
