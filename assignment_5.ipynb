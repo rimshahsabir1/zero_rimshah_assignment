{
 "cells": [
  {
   "cell_type": "code",
   "execution_count": 2,
   "metadata": {},
   "outputs": [],
   "source": [
    "# Load libraries \n",
    "import plotly.express as px\n",
    "import pandas as pd\n",
    "import numpy as np"
   ]
  },
  {
   "cell_type": "code",
   "execution_count": 3,
   "metadata": {},
   "outputs": [
    {
     "data": {
      "text/html": [
       "<div>\n",
       "<style scoped>\n",
       "    .dataframe tbody tr th:only-of-type {\n",
       "        vertical-align: middle;\n",
       "    }\n",
       "\n",
       "    .dataframe tbody tr th {\n",
       "        vertical-align: top;\n",
       "    }\n",
       "\n",
       "    .dataframe thead th {\n",
       "        text-align: right;\n",
       "    }\n",
       "</style>\n",
       "<table border=\"1\" class=\"dataframe\">\n",
       "  <thead>\n",
       "    <tr style=\"text-align: right;\">\n",
       "      <th></th>\n",
       "      <th>Progress</th>\n",
       "      <th>UserLanguage</th>\n",
       "      <th>Collection</th>\n",
       "      <th>LE3.199</th>\n",
       "      <th>LE3.200</th>\n",
       "      <th>LE3.201</th>\n",
       "      <th>LE5.012</th>\n",
       "      <th>LE5.013</th>\n",
       "      <th>LE5.014</th>\n",
       "      <th>LE5.015</th>\n",
       "      <th>...</th>\n",
       "      <th>LE5.022</th>\n",
       "      <th>LE5.023</th>\n",
       "      <th>LE5.024</th>\n",
       "      <th>LE5.025</th>\n",
       "      <th>LE5.026</th>\n",
       "      <th>LE5.027</th>\n",
       "      <th>LE5.028</th>\n",
       "      <th>LE5.029</th>\n",
       "      <th>LE5.030</th>\n",
       "      <th>LE5.031</th>\n",
       "    </tr>\n",
       "  </thead>\n",
       "  <tbody>\n",
       "    <tr>\n",
       "      <th>0</th>\n",
       "      <td>100</td>\n",
       "      <td>RU</td>\n",
       "      <td>Pilot</td>\n",
       "      <td>Strongly disagree</td>\n",
       "      <td>Strongly disagree</td>\n",
       "      <td>Strongly disagree</td>\n",
       "      <td>All the genes in DNA</td>\n",
       "      <td></td>\n",
       "      <td></td>\n",
       "      <td>99.9%</td>\n",
       "      <td>...</td>\n",
       "      <td>Many genes</td>\n",
       "      <td>Points of genetic variation</td>\n",
       "      <td>More than 90% the same</td>\n",
       "      <td>Is removed when passed from parent to offspring</td>\n",
       "      <td>No</td>\n",
       "      <td>CRISPR</td>\n",
       "      <td>No</td>\n",
       "      <td>True</td>\n",
       "      <td>True</td>\n",
       "      <td>There is an approximately 30% chance that some...</td>\n",
       "    </tr>\n",
       "    <tr>\n",
       "      <th>1</th>\n",
       "      <td>100</td>\n",
       "      <td>RU</td>\n",
       "      <td>Pilot</td>\n",
       "      <td>Agree</td>\n",
       "      <td>Strongly agree</td>\n",
       "      <td>Agree</td>\n",
       "      <td>The entire sequence of an individual's DNA</td>\n",
       "      <td>GCTA</td>\n",
       "      <td></td>\n",
       "      <td>75%</td>\n",
       "      <td>...</td>\n",
       "      <td></td>\n",
       "      <td></td>\n",
       "      <td></td>\n",
       "      <td></td>\n",
       "      <td>Yes</td>\n",
       "      <td></td>\n",
       "      <td>No</td>\n",
       "      <td></td>\n",
       "      <td></td>\n",
       "      <td>If someone has insomnia this is approximately ...</td>\n",
       "    </tr>\n",
       "    <tr>\n",
       "      <th>2</th>\n",
       "      <td>100</td>\n",
       "      <td>RU</td>\n",
       "      <td>Pilot</td>\n",
       "      <td></td>\n",
       "      <td></td>\n",
       "      <td></td>\n",
       "      <td></td>\n",
       "      <td></td>\n",
       "      <td></td>\n",
       "      <td></td>\n",
       "      <td>...</td>\n",
       "      <td></td>\n",
       "      <td></td>\n",
       "      <td></td>\n",
       "      <td></td>\n",
       "      <td></td>\n",
       "      <td></td>\n",
       "      <td></td>\n",
       "      <td></td>\n",
       "      <td></td>\n",
       "      <td></td>\n",
       "    </tr>\n",
       "    <tr>\n",
       "      <th>3</th>\n",
       "      <td>100</td>\n",
       "      <td>RU</td>\n",
       "      <td>Pilot</td>\n",
       "      <td></td>\n",
       "      <td></td>\n",
       "      <td></td>\n",
       "      <td>All the genes in DNA</td>\n",
       "      <td>GCTA</td>\n",
       "      <td>2 copies</td>\n",
       "      <td>99.9%</td>\n",
       "      <td>...</td>\n",
       "      <td>Many genes</td>\n",
       "      <td>Points of genetic variation</td>\n",
       "      <td>100% identical</td>\n",
       "      <td>Does not lead to the production of proteins</td>\n",
       "      <td>No</td>\n",
       "      <td>CRISPR</td>\n",
       "      <td>No</td>\n",
       "      <td>True</td>\n",
       "      <td>True</td>\n",
       "      <td>If someone has insomnia this is approximately ...</td>\n",
       "    </tr>\n",
       "    <tr>\n",
       "      <th>4</th>\n",
       "      <td>4</td>\n",
       "      <td>RU</td>\n",
       "      <td>Pilot</td>\n",
       "      <td></td>\n",
       "      <td></td>\n",
       "      <td></td>\n",
       "      <td></td>\n",
       "      <td></td>\n",
       "      <td></td>\n",
       "      <td></td>\n",
       "      <td>...</td>\n",
       "      <td></td>\n",
       "      <td></td>\n",
       "      <td></td>\n",
       "      <td></td>\n",
       "      <td></td>\n",
       "      <td></td>\n",
       "      <td></td>\n",
       "      <td></td>\n",
       "      <td></td>\n",
       "      <td></td>\n",
       "    </tr>\n",
       "  </tbody>\n",
       "</table>\n",
       "<p>5 rows × 26 columns</p>\n",
       "</div>"
      ],
      "text/plain": [
       "   Progress UserLanguage Collection            LE3.199            LE3.200  \\\n",
       "0       100           RU      Pilot  Strongly disagree  Strongly disagree   \n",
       "1       100           RU      Pilot              Agree     Strongly agree   \n",
       "2       100           RU      Pilot                                         \n",
       "3       100           RU      Pilot                                         \n",
       "4         4           RU      Pilot                                         \n",
       "\n",
       "             LE3.201                                     LE5.012 LE5.013  \\\n",
       "0  Strongly disagree                        All the genes in DNA           \n",
       "1              Agree  The entire sequence of an individual's DNA    GCTA   \n",
       "2                                                                          \n",
       "3                                           All the genes in DNA    GCTA   \n",
       "4                                                                          \n",
       "\n",
       "     LE5.014 LE5.015  ...     LE5.022                      LE5.023  \\\n",
       "0              99.9%  ...  Many genes  Points of genetic variation   \n",
       "1                75%  ...                                            \n",
       "2                     ...                                            \n",
       "3   2 copies   99.9%  ...  Many genes  Points of genetic variation   \n",
       "4                     ...                                            \n",
       "\n",
       "                  LE5.024                                          LE5.025  \\\n",
       "0  More than 90% the same  Is removed when passed from parent to offspring   \n",
       "1                                                                            \n",
       "2                                                                            \n",
       "3          100% identical      Does not lead to the production of proteins   \n",
       "4                                                                            \n",
       "\n",
       "  LE5.026 LE5.027 LE5.028 LE5.029 LE5.030  \\\n",
       "0      No  CRISPR      No    True    True   \n",
       "1     Yes              No                   \n",
       "2                                           \n",
       "3      No  CRISPR      No    True    True   \n",
       "4                                           \n",
       "\n",
       "                                             LE5.031  \n",
       "0  There is an approximately 30% chance that some...  \n",
       "1  If someone has insomnia this is approximately ...  \n",
       "2                                                     \n",
       "3  If someone has insomnia this is approximately ...  \n",
       "4                                                     \n",
       "\n",
       "[5 rows x 26 columns]"
      ]
     },
     "execution_count": 3,
     "metadata": {},
     "output_type": "execute_result"
    }
   ],
   "source": [
    "df = pd.read_csv('E:/python_lecture/resources/gk_items.csv', sep = ',')\n",
    "df.head(5)"
   ]
  },
  {
   "cell_type": "code",
   "execution_count": 4,
   "metadata": {},
   "outputs": [],
   "source": [
    "df['count'] = 1"
   ]
  },
  {
   "cell_type": "code",
   "execution_count": 5,
   "metadata": {},
   "outputs": [
    {
     "data": {
      "text/html": [
       "<div>\n",
       "<style scoped>\n",
       "    .dataframe tbody tr th:only-of-type {\n",
       "        vertical-align: middle;\n",
       "    }\n",
       "\n",
       "    .dataframe tbody tr th {\n",
       "        vertical-align: top;\n",
       "    }\n",
       "\n",
       "    .dataframe thead th {\n",
       "        text-align: right;\n",
       "    }\n",
       "</style>\n",
       "<table border=\"1\" class=\"dataframe\">\n",
       "  <thead>\n",
       "    <tr style=\"text-align: right;\">\n",
       "      <th></th>\n",
       "      <th>LE3.199</th>\n",
       "      <th>LE3.200</th>\n",
       "      <th>LE3.201</th>\n",
       "    </tr>\n",
       "  </thead>\n",
       "  <tbody>\n",
       "    <tr>\n",
       "      <th>0</th>\n",
       "      <td>Strongly disagree</td>\n",
       "      <td>Strongly disagree</td>\n",
       "      <td>Strongly disagree</td>\n",
       "    </tr>\n",
       "    <tr>\n",
       "      <th>1</th>\n",
       "      <td>Agree</td>\n",
       "      <td>Strongly agree</td>\n",
       "      <td>Agree</td>\n",
       "    </tr>\n",
       "    <tr>\n",
       "      <th>2</th>\n",
       "      <td></td>\n",
       "      <td></td>\n",
       "      <td></td>\n",
       "    </tr>\n",
       "    <tr>\n",
       "      <th>3</th>\n",
       "      <td></td>\n",
       "      <td></td>\n",
       "      <td></td>\n",
       "    </tr>\n",
       "    <tr>\n",
       "      <th>4</th>\n",
       "      <td></td>\n",
       "      <td></td>\n",
       "      <td></td>\n",
       "    </tr>\n",
       "    <tr>\n",
       "      <th>...</th>\n",
       "      <td>...</td>\n",
       "      <td>...</td>\n",
       "      <td>...</td>\n",
       "    </tr>\n",
       "    <tr>\n",
       "      <th>1912</th>\n",
       "      <td></td>\n",
       "      <td></td>\n",
       "      <td></td>\n",
       "    </tr>\n",
       "    <tr>\n",
       "      <th>1913</th>\n",
       "      <td></td>\n",
       "      <td></td>\n",
       "      <td></td>\n",
       "    </tr>\n",
       "    <tr>\n",
       "      <th>1914</th>\n",
       "      <td></td>\n",
       "      <td></td>\n",
       "      <td></td>\n",
       "    </tr>\n",
       "    <tr>\n",
       "      <th>1915</th>\n",
       "      <td></td>\n",
       "      <td></td>\n",
       "      <td></td>\n",
       "    </tr>\n",
       "    <tr>\n",
       "      <th>1916</th>\n",
       "      <td></td>\n",
       "      <td></td>\n",
       "      <td></td>\n",
       "    </tr>\n",
       "  </tbody>\n",
       "</table>\n",
       "<p>1917 rows × 3 columns</p>\n",
       "</div>"
      ],
      "text/plain": [
       "                LE3.199            LE3.200            LE3.201\n",
       "0     Strongly disagree  Strongly disagree  Strongly disagree\n",
       "1                 Agree     Strongly agree              Agree\n",
       "2                                                            \n",
       "3                                                            \n",
       "4                                                            \n",
       "...                 ...                ...                ...\n",
       "1912                                                         \n",
       "1913                                                         \n",
       "1914                                                         \n",
       "1915                                                         \n",
       "1916                                                         \n",
       "\n",
       "[1917 rows x 3 columns]"
      ]
     },
     "execution_count": 5,
     "metadata": {},
     "output_type": "execute_result"
    }
   ],
   "source": [
    "# LE3.199\tLE3.200\tLE3.201, let's plot these variables\n",
    "df_1 = df[['LE3.199','LE3.200','LE3.201']].copy()\n",
    "df_1"
   ]
  },
  {
   "cell_type": "code",
   "execution_count": 6,
   "metadata": {},
   "outputs": [
    {
     "data": {
      "text/html": [
       "<div>\n",
       "<style scoped>\n",
       "    .dataframe tbody tr th:only-of-type {\n",
       "        vertical-align: middle;\n",
       "    }\n",
       "\n",
       "    .dataframe tbody tr th {\n",
       "        vertical-align: top;\n",
       "    }\n",
       "\n",
       "    .dataframe thead th {\n",
       "        text-align: right;\n",
       "    }\n",
       "</style>\n",
       "<table border=\"1\" class=\"dataframe\">\n",
       "  <thead>\n",
       "    <tr style=\"text-align: right;\">\n",
       "      <th></th>\n",
       "      <th>LE3.199</th>\n",
       "      <th>LE3.200</th>\n",
       "      <th>LE3.201</th>\n",
       "    </tr>\n",
       "  </thead>\n",
       "  <tbody>\n",
       "    <tr>\n",
       "      <th>0</th>\n",
       "      <td>Strongly disagree</td>\n",
       "      <td>Strongly disagree</td>\n",
       "      <td>Strongly disagree</td>\n",
       "    </tr>\n",
       "    <tr>\n",
       "      <th>1</th>\n",
       "      <td>Agree</td>\n",
       "      <td>Strongly agree</td>\n",
       "      <td>Agree</td>\n",
       "    </tr>\n",
       "    <tr>\n",
       "      <th>2</th>\n",
       "      <td>No response</td>\n",
       "      <td>No response</td>\n",
       "      <td>No response</td>\n",
       "    </tr>\n",
       "    <tr>\n",
       "      <th>3</th>\n",
       "      <td>No response</td>\n",
       "      <td>No response</td>\n",
       "      <td>No response</td>\n",
       "    </tr>\n",
       "    <tr>\n",
       "      <th>4</th>\n",
       "      <td>No response</td>\n",
       "      <td>No response</td>\n",
       "      <td>No response</td>\n",
       "    </tr>\n",
       "    <tr>\n",
       "      <th>...</th>\n",
       "      <td>...</td>\n",
       "      <td>...</td>\n",
       "      <td>...</td>\n",
       "    </tr>\n",
       "    <tr>\n",
       "      <th>1912</th>\n",
       "      <td>No response</td>\n",
       "      <td>No response</td>\n",
       "      <td>No response</td>\n",
       "    </tr>\n",
       "    <tr>\n",
       "      <th>1913</th>\n",
       "      <td>No response</td>\n",
       "      <td>No response</td>\n",
       "      <td>No response</td>\n",
       "    </tr>\n",
       "    <tr>\n",
       "      <th>1914</th>\n",
       "      <td>No response</td>\n",
       "      <td>No response</td>\n",
       "      <td>No response</td>\n",
       "    </tr>\n",
       "    <tr>\n",
       "      <th>1915</th>\n",
       "      <td>No response</td>\n",
       "      <td>No response</td>\n",
       "      <td>No response</td>\n",
       "    </tr>\n",
       "    <tr>\n",
       "      <th>1916</th>\n",
       "      <td>No response</td>\n",
       "      <td>No response</td>\n",
       "      <td>No response</td>\n",
       "    </tr>\n",
       "  </tbody>\n",
       "</table>\n",
       "<p>1917 rows × 3 columns</p>\n",
       "</div>"
      ],
      "text/plain": [
       "                LE3.199            LE3.200            LE3.201\n",
       "0     Strongly disagree  Strongly disagree  Strongly disagree\n",
       "1                 Agree     Strongly agree              Agree\n",
       "2           No response        No response        No response\n",
       "3           No response        No response        No response\n",
       "4           No response        No response        No response\n",
       "...                 ...                ...                ...\n",
       "1912        No response        No response        No response\n",
       "1913        No response        No response        No response\n",
       "1914        No response        No response        No response\n",
       "1915        No response        No response        No response\n",
       "1916        No response        No response        No response\n",
       "\n",
       "[1917 rows x 3 columns]"
      ]
     },
     "execution_count": 6,
     "metadata": {},
     "output_type": "execute_result"
    }
   ],
   "source": [
    "df_1.replace(' ', 'No response', inplace = True)\n",
    "df_1"
   ]
  },
  {
   "cell_type": "code",
   "execution_count": 7,
   "metadata": {},
   "outputs": [
    {
     "data": {
      "text/html": [
       "<div>\n",
       "<style scoped>\n",
       "    .dataframe tbody tr th:only-of-type {\n",
       "        vertical-align: middle;\n",
       "    }\n",
       "\n",
       "    .dataframe tbody tr th {\n",
       "        vertical-align: top;\n",
       "    }\n",
       "\n",
       "    .dataframe thead th {\n",
       "        text-align: right;\n",
       "    }\n",
       "</style>\n",
       "<table border=\"1\" class=\"dataframe\">\n",
       "  <thead>\n",
       "    <tr style=\"text-align: right;\">\n",
       "      <th></th>\n",
       "      <th>variable</th>\n",
       "      <th>value</th>\n",
       "    </tr>\n",
       "  </thead>\n",
       "  <tbody>\n",
       "    <tr>\n",
       "      <th>0</th>\n",
       "      <td>LE3.199</td>\n",
       "      <td>Strongly disagree</td>\n",
       "    </tr>\n",
       "    <tr>\n",
       "      <th>1</th>\n",
       "      <td>LE3.199</td>\n",
       "      <td>Agree</td>\n",
       "    </tr>\n",
       "    <tr>\n",
       "      <th>2</th>\n",
       "      <td>LE3.199</td>\n",
       "      <td>No response</td>\n",
       "    </tr>\n",
       "    <tr>\n",
       "      <th>3</th>\n",
       "      <td>LE3.199</td>\n",
       "      <td>No response</td>\n",
       "    </tr>\n",
       "    <tr>\n",
       "      <th>4</th>\n",
       "      <td>LE3.199</td>\n",
       "      <td>No response</td>\n",
       "    </tr>\n",
       "    <tr>\n",
       "      <th>...</th>\n",
       "      <td>...</td>\n",
       "      <td>...</td>\n",
       "    </tr>\n",
       "    <tr>\n",
       "      <th>5746</th>\n",
       "      <td>LE3.201</td>\n",
       "      <td>No response</td>\n",
       "    </tr>\n",
       "    <tr>\n",
       "      <th>5747</th>\n",
       "      <td>LE3.201</td>\n",
       "      <td>No response</td>\n",
       "    </tr>\n",
       "    <tr>\n",
       "      <th>5748</th>\n",
       "      <td>LE3.201</td>\n",
       "      <td>No response</td>\n",
       "    </tr>\n",
       "    <tr>\n",
       "      <th>5749</th>\n",
       "      <td>LE3.201</td>\n",
       "      <td>No response</td>\n",
       "    </tr>\n",
       "    <tr>\n",
       "      <th>5750</th>\n",
       "      <td>LE3.201</td>\n",
       "      <td>No response</td>\n",
       "    </tr>\n",
       "  </tbody>\n",
       "</table>\n",
       "<p>5751 rows × 2 columns</p>\n",
       "</div>"
      ],
      "text/plain": [
       "     variable              value\n",
       "0     LE3.199  Strongly disagree\n",
       "1     LE3.199              Agree\n",
       "2     LE3.199        No response\n",
       "3     LE3.199        No response\n",
       "4     LE3.199        No response\n",
       "...       ...                ...\n",
       "5746  LE3.201        No response\n",
       "5747  LE3.201        No response\n",
       "5748  LE3.201        No response\n",
       "5749  LE3.201        No response\n",
       "5750  LE3.201        No response\n",
       "\n",
       "[5751 rows x 2 columns]"
      ]
     },
     "execution_count": 7,
     "metadata": {},
     "output_type": "execute_result"
    }
   ],
   "source": [
    "df_2 = pd.melt(df_1)\n",
    "df_2"
   ]
  },
  {
   "cell_type": "code",
   "execution_count": 8,
   "metadata": {},
   "outputs": [
    {
     "data": {
      "text/plain": [
       "Index(['variable', 'value'], dtype='object')"
      ]
     },
     "execution_count": 8,
     "metadata": {},
     "output_type": "execute_result"
    }
   ],
   "source": [
    "df_2.columns"
   ]
  },
  {
   "cell_type": "code",
   "execution_count": 9,
   "metadata": {},
   "outputs": [
    {
     "data": {
      "text/html": [
       "<div>\n",
       "<style scoped>\n",
       "    .dataframe tbody tr th:only-of-type {\n",
       "        vertical-align: middle;\n",
       "    }\n",
       "\n",
       "    .dataframe tbody tr th {\n",
       "        vertical-align: top;\n",
       "    }\n",
       "\n",
       "    .dataframe thead th {\n",
       "        text-align: right;\n",
       "    }\n",
       "</style>\n",
       "<table border=\"1\" class=\"dataframe\">\n",
       "  <thead>\n",
       "    <tr style=\"text-align: right;\">\n",
       "      <th></th>\n",
       "      <th>variable</th>\n",
       "      <th>value</th>\n",
       "    </tr>\n",
       "  </thead>\n",
       "  <tbody>\n",
       "    <tr>\n",
       "      <th>0</th>\n",
       "      <td>LE3.199</td>\n",
       "      <td>1917</td>\n",
       "    </tr>\n",
       "    <tr>\n",
       "      <th>1</th>\n",
       "      <td>LE3.200</td>\n",
       "      <td>1917</td>\n",
       "    </tr>\n",
       "    <tr>\n",
       "      <th>2</th>\n",
       "      <td>LE3.201</td>\n",
       "      <td>1917</td>\n",
       "    </tr>\n",
       "  </tbody>\n",
       "</table>\n",
       "</div>"
      ],
      "text/plain": [
       "  variable  value\n",
       "0  LE3.199   1917\n",
       "1  LE3.200   1917\n",
       "2  LE3.201   1917"
      ]
     },
     "execution_count": 9,
     "metadata": {},
     "output_type": "execute_result"
    }
   ],
   "source": [
    "df_2.groupby(['variable']).value.count() # groupby single column\n",
    "df_3 = df_2.groupby(['variable']).value.count().reset_index()\n",
    "df_3"
   ]
  },
  {
   "cell_type": "code",
   "execution_count": 10,
   "metadata": {},
   "outputs": [
    {
     "data": {
      "text/plain": [
       "variable  value                     \n",
       "LE3.199   Agree                         553\n",
       "          Disagree                       58\n",
       "          Neither agree nor disagree    133\n",
       "          No response                   630\n",
       "          Strongly agree                448\n",
       "          Strongly disagree              95\n",
       "LE3.200   Agree                         526\n",
       "          Disagree                       68\n",
       "          Neither agree nor disagree    159\n",
       "          No response                   644\n",
       "          Strongly agree                435\n",
       "          Strongly disagree              85\n",
       "LE3.201   Agree                         557\n",
       "          Disagree                       52\n",
       "          Neither agree nor disagree    155\n",
       "          No response                   653\n",
       "          Strongly agree                426\n",
       "          Strongly disagree              74\n",
       "Name: value, dtype: int64"
      ]
     },
     "execution_count": 10,
     "metadata": {},
     "output_type": "execute_result"
    }
   ],
   "source": [
    "df_4 = df_2.groupby(['variable', 'value'])['value'].count() # double column\n",
    "df_4"
   ]
  },
  {
   "cell_type": "code",
   "execution_count": 11,
   "metadata": {},
   "outputs": [
    {
     "data": {
      "text/html": [
       "<div>\n",
       "<style scoped>\n",
       "    .dataframe tbody tr th:only-of-type {\n",
       "        vertical-align: middle;\n",
       "    }\n",
       "\n",
       "    .dataframe tbody tr th {\n",
       "        vertical-align: top;\n",
       "    }\n",
       "\n",
       "    .dataframe thead th {\n",
       "        text-align: right;\n",
       "    }\n",
       "</style>\n",
       "<table border=\"1\" class=\"dataframe\">\n",
       "  <thead>\n",
       "    <tr style=\"text-align: right;\">\n",
       "      <th></th>\n",
       "      <th></th>\n",
       "      <th>value</th>\n",
       "    </tr>\n",
       "    <tr>\n",
       "      <th>variable</th>\n",
       "      <th>value</th>\n",
       "      <th></th>\n",
       "    </tr>\n",
       "  </thead>\n",
       "  <tbody>\n",
       "    <tr>\n",
       "      <th rowspan=\"6\" valign=\"top\">LE3.199</th>\n",
       "      <th>Agree</th>\n",
       "      <td>553</td>\n",
       "    </tr>\n",
       "    <tr>\n",
       "      <th>Disagree</th>\n",
       "      <td>58</td>\n",
       "    </tr>\n",
       "    <tr>\n",
       "      <th>Neither agree nor disagree</th>\n",
       "      <td>133</td>\n",
       "    </tr>\n",
       "    <tr>\n",
       "      <th>No response</th>\n",
       "      <td>630</td>\n",
       "    </tr>\n",
       "    <tr>\n",
       "      <th>Strongly agree</th>\n",
       "      <td>448</td>\n",
       "    </tr>\n",
       "    <tr>\n",
       "      <th>Strongly disagree</th>\n",
       "      <td>95</td>\n",
       "    </tr>\n",
       "    <tr>\n",
       "      <th rowspan=\"6\" valign=\"top\">LE3.200</th>\n",
       "      <th>Agree</th>\n",
       "      <td>526</td>\n",
       "    </tr>\n",
       "    <tr>\n",
       "      <th>Disagree</th>\n",
       "      <td>68</td>\n",
       "    </tr>\n",
       "    <tr>\n",
       "      <th>Neither agree nor disagree</th>\n",
       "      <td>159</td>\n",
       "    </tr>\n",
       "    <tr>\n",
       "      <th>No response</th>\n",
       "      <td>644</td>\n",
       "    </tr>\n",
       "    <tr>\n",
       "      <th>Strongly agree</th>\n",
       "      <td>435</td>\n",
       "    </tr>\n",
       "    <tr>\n",
       "      <th>Strongly disagree</th>\n",
       "      <td>85</td>\n",
       "    </tr>\n",
       "    <tr>\n",
       "      <th rowspan=\"6\" valign=\"top\">LE3.201</th>\n",
       "      <th>Agree</th>\n",
       "      <td>557</td>\n",
       "    </tr>\n",
       "    <tr>\n",
       "      <th>Disagree</th>\n",
       "      <td>52</td>\n",
       "    </tr>\n",
       "    <tr>\n",
       "      <th>Neither agree nor disagree</th>\n",
       "      <td>155</td>\n",
       "    </tr>\n",
       "    <tr>\n",
       "      <th>No response</th>\n",
       "      <td>653</td>\n",
       "    </tr>\n",
       "    <tr>\n",
       "      <th>Strongly agree</th>\n",
       "      <td>426</td>\n",
       "    </tr>\n",
       "    <tr>\n",
       "      <th>Strongly disagree</th>\n",
       "      <td>74</td>\n",
       "    </tr>\n",
       "  </tbody>\n",
       "</table>\n",
       "</div>"
      ],
      "text/plain": [
       "                                     value\n",
       "variable value                            \n",
       "LE3.199  Agree                         553\n",
       "         Disagree                       58\n",
       "         Neither agree nor disagree    133\n",
       "         No response                   630\n",
       "         Strongly agree                448\n",
       "         Strongly disagree              95\n",
       "LE3.200  Agree                         526\n",
       "         Disagree                       68\n",
       "         Neither agree nor disagree    159\n",
       "         No response                   644\n",
       "         Strongly agree                435\n",
       "         Strongly disagree              85\n",
       "LE3.201  Agree                         557\n",
       "         Disagree                       52\n",
       "         Neither agree nor disagree    155\n",
       "         No response                   653\n",
       "         Strongly agree                426\n",
       "         Strongly disagree              74"
      ]
     },
     "execution_count": 11,
     "metadata": {},
     "output_type": "execute_result"
    }
   ],
   "source": [
    "df_4 = pd.DataFrame(df_4)\n",
    "df_4"
   ]
  },
  {
   "cell_type": "code",
   "execution_count": 12,
   "metadata": {},
   "outputs": [
    {
     "data": {
      "text/plain": [
       "Index(['value'], dtype='object')"
      ]
     },
     "execution_count": 12,
     "metadata": {},
     "output_type": "execute_result"
    }
   ],
   "source": [
    "df_4.columns"
   ]
  },
  {
   "cell_type": "code",
   "execution_count": 13,
   "metadata": {},
   "outputs": [
    {
     "data": {
      "text/plain": [
       "MultiIndex([('LE3.199',                      'Agree'),\n",
       "            ('LE3.199',                   'Disagree'),\n",
       "            ('LE3.199', 'Neither agree nor disagree'),\n",
       "            ('LE3.199',                'No response'),\n",
       "            ('LE3.199',             'Strongly agree'),\n",
       "            ('LE3.199',          'Strongly disagree'),\n",
       "            ('LE3.200',                      'Agree'),\n",
       "            ('LE3.200',                   'Disagree'),\n",
       "            ('LE3.200', 'Neither agree nor disagree'),\n",
       "            ('LE3.200',                'No response'),\n",
       "            ('LE3.200',             'Strongly agree'),\n",
       "            ('LE3.200',          'Strongly disagree'),\n",
       "            ('LE3.201',                      'Agree'),\n",
       "            ('LE3.201',                   'Disagree'),\n",
       "            ('LE3.201', 'Neither agree nor disagree'),\n",
       "            ('LE3.201',                'No response'),\n",
       "            ('LE3.201',             'Strongly agree'),\n",
       "            ('LE3.201',          'Strongly disagree')],\n",
       "           names=['variable', 'value'])"
      ]
     },
     "execution_count": 13,
     "metadata": {},
     "output_type": "execute_result"
    }
   ],
   "source": [
    "df_4.index"
   ]
  },
  {
   "cell_type": "code",
   "execution_count": 16,
   "metadata": {},
   "outputs": [
    {
     "data": {
      "text/html": [
       "<div>\n",
       "<style scoped>\n",
       "    .dataframe tbody tr th:only-of-type {\n",
       "        vertical-align: middle;\n",
       "    }\n",
       "\n",
       "    .dataframe tbody tr th {\n",
       "        vertical-align: top;\n",
       "    }\n",
       "\n",
       "    .dataframe thead th {\n",
       "        text-align: right;\n",
       "    }\n",
       "</style>\n",
       "<table border=\"1\" class=\"dataframe\">\n",
       "  <thead>\n",
       "    <tr style=\"text-align: right;\">\n",
       "      <th></th>\n",
       "      <th></th>\n",
       "      <th>value</th>\n",
       "      <th>info</th>\n",
       "    </tr>\n",
       "    <tr>\n",
       "      <th>variable</th>\n",
       "      <th>value</th>\n",
       "      <th></th>\n",
       "      <th></th>\n",
       "    </tr>\n",
       "  </thead>\n",
       "  <tbody>\n",
       "    <tr>\n",
       "      <th rowspan=\"6\" valign=\"top\">LE3.199</th>\n",
       "      <th>Agree</th>\n",
       "      <td>553</td>\n",
       "      <td>(LE3.199, Agree)</td>\n",
       "    </tr>\n",
       "    <tr>\n",
       "      <th>Disagree</th>\n",
       "      <td>58</td>\n",
       "      <td>(LE3.199, Disagree)</td>\n",
       "    </tr>\n",
       "    <tr>\n",
       "      <th>Neither agree nor disagree</th>\n",
       "      <td>133</td>\n",
       "      <td>(LE3.199, Neither agree nor disagree)</td>\n",
       "    </tr>\n",
       "    <tr>\n",
       "      <th>No response</th>\n",
       "      <td>630</td>\n",
       "      <td>(LE3.199, No response)</td>\n",
       "    </tr>\n",
       "    <tr>\n",
       "      <th>Strongly agree</th>\n",
       "      <td>448</td>\n",
       "      <td>(LE3.199, Strongly agree)</td>\n",
       "    </tr>\n",
       "    <tr>\n",
       "      <th>Strongly disagree</th>\n",
       "      <td>95</td>\n",
       "      <td>(LE3.199, Strongly disagree)</td>\n",
       "    </tr>\n",
       "    <tr>\n",
       "      <th rowspan=\"6\" valign=\"top\">LE3.200</th>\n",
       "      <th>Agree</th>\n",
       "      <td>526</td>\n",
       "      <td>(LE3.200, Agree)</td>\n",
       "    </tr>\n",
       "    <tr>\n",
       "      <th>Disagree</th>\n",
       "      <td>68</td>\n",
       "      <td>(LE3.200, Disagree)</td>\n",
       "    </tr>\n",
       "    <tr>\n",
       "      <th>Neither agree nor disagree</th>\n",
       "      <td>159</td>\n",
       "      <td>(LE3.200, Neither agree nor disagree)</td>\n",
       "    </tr>\n",
       "    <tr>\n",
       "      <th>No response</th>\n",
       "      <td>644</td>\n",
       "      <td>(LE3.200, No response)</td>\n",
       "    </tr>\n",
       "    <tr>\n",
       "      <th>Strongly agree</th>\n",
       "      <td>435</td>\n",
       "      <td>(LE3.200, Strongly agree)</td>\n",
       "    </tr>\n",
       "    <tr>\n",
       "      <th>Strongly disagree</th>\n",
       "      <td>85</td>\n",
       "      <td>(LE3.200, Strongly disagree)</td>\n",
       "    </tr>\n",
       "    <tr>\n",
       "      <th rowspan=\"6\" valign=\"top\">LE3.201</th>\n",
       "      <th>Agree</th>\n",
       "      <td>557</td>\n",
       "      <td>(LE3.201, Agree)</td>\n",
       "    </tr>\n",
       "    <tr>\n",
       "      <th>Disagree</th>\n",
       "      <td>52</td>\n",
       "      <td>(LE3.201, Disagree)</td>\n",
       "    </tr>\n",
       "    <tr>\n",
       "      <th>Neither agree nor disagree</th>\n",
       "      <td>155</td>\n",
       "      <td>(LE3.201, Neither agree nor disagree)</td>\n",
       "    </tr>\n",
       "    <tr>\n",
       "      <th>No response</th>\n",
       "      <td>653</td>\n",
       "      <td>(LE3.201, No response)</td>\n",
       "    </tr>\n",
       "    <tr>\n",
       "      <th>Strongly agree</th>\n",
       "      <td>426</td>\n",
       "      <td>(LE3.201, Strongly agree)</td>\n",
       "    </tr>\n",
       "    <tr>\n",
       "      <th>Strongly disagree</th>\n",
       "      <td>74</td>\n",
       "      <td>(LE3.201, Strongly disagree)</td>\n",
       "    </tr>\n",
       "  </tbody>\n",
       "</table>\n",
       "</div>"
      ],
      "text/plain": [
       "                                     value  \\\n",
       "variable value                               \n",
       "LE3.199  Agree                         553   \n",
       "         Disagree                       58   \n",
       "         Neither agree nor disagree    133   \n",
       "         No response                   630   \n",
       "         Strongly agree                448   \n",
       "         Strongly disagree              95   \n",
       "LE3.200  Agree                         526   \n",
       "         Disagree                       68   \n",
       "         Neither agree nor disagree    159   \n",
       "         No response                   644   \n",
       "         Strongly agree                435   \n",
       "         Strongly disagree              85   \n",
       "LE3.201  Agree                         557   \n",
       "         Disagree                       52   \n",
       "         Neither agree nor disagree    155   \n",
       "         No response                   653   \n",
       "         Strongly agree                426   \n",
       "         Strongly disagree              74   \n",
       "\n",
       "                                                                      info  \n",
       "variable value                                                              \n",
       "LE3.199  Agree                                            (LE3.199, Agree)  \n",
       "         Disagree                                      (LE3.199, Disagree)  \n",
       "         Neither agree nor disagree  (LE3.199, Neither agree nor disagree)  \n",
       "         No response                                (LE3.199, No response)  \n",
       "         Strongly agree                          (LE3.199, Strongly agree)  \n",
       "         Strongly disagree                    (LE3.199, Strongly disagree)  \n",
       "LE3.200  Agree                                            (LE3.200, Agree)  \n",
       "         Disagree                                      (LE3.200, Disagree)  \n",
       "         Neither agree nor disagree  (LE3.200, Neither agree nor disagree)  \n",
       "         No response                                (LE3.200, No response)  \n",
       "         Strongly agree                          (LE3.200, Strongly agree)  \n",
       "         Strongly disagree                    (LE3.200, Strongly disagree)  \n",
       "LE3.201  Agree                                            (LE3.201, Agree)  \n",
       "         Disagree                                      (LE3.201, Disagree)  \n",
       "         Neither agree nor disagree  (LE3.201, Neither agree nor disagree)  \n",
       "         No response                                (LE3.201, No response)  \n",
       "         Strongly agree                          (LE3.201, Strongly agree)  \n",
       "         Strongly disagree                    (LE3.201, Strongly disagree)  "
      ]
     },
     "execution_count": 16,
     "metadata": {},
     "output_type": "execute_result"
    }
   ],
   "source": [
    "df_4['info'] = df_4.index\n",
    "df_4"
   ]
  },
  {
   "cell_type": "code",
   "execution_count": 17,
   "metadata": {},
   "outputs": [
    {
     "data": {
      "text/html": [
       "<div>\n",
       "<style scoped>\n",
       "    .dataframe tbody tr th:only-of-type {\n",
       "        vertical-align: middle;\n",
       "    }\n",
       "\n",
       "    .dataframe tbody tr th {\n",
       "        vertical-align: top;\n",
       "    }\n",
       "\n",
       "    .dataframe thead th {\n",
       "        text-align: right;\n",
       "    }\n",
       "</style>\n",
       "<table border=\"1\" class=\"dataframe\">\n",
       "  <thead>\n",
       "    <tr style=\"text-align: right;\">\n",
       "      <th></th>\n",
       "      <th>variable</th>\n",
       "      <th>value_x</th>\n",
       "      <th>value_y</th>\n",
       "      <th>info</th>\n",
       "    </tr>\n",
       "  </thead>\n",
       "  <tbody>\n",
       "    <tr>\n",
       "      <th>0</th>\n",
       "      <td>LE3.199</td>\n",
       "      <td>1917</td>\n",
       "      <td>553</td>\n",
       "      <td>(LE3.199, Agree)</td>\n",
       "    </tr>\n",
       "    <tr>\n",
       "      <th>1</th>\n",
       "      <td>LE3.199</td>\n",
       "      <td>1917</td>\n",
       "      <td>58</td>\n",
       "      <td>(LE3.199, Disagree)</td>\n",
       "    </tr>\n",
       "    <tr>\n",
       "      <th>2</th>\n",
       "      <td>LE3.199</td>\n",
       "      <td>1917</td>\n",
       "      <td>133</td>\n",
       "      <td>(LE3.199, Neither agree nor disagree)</td>\n",
       "    </tr>\n",
       "    <tr>\n",
       "      <th>3</th>\n",
       "      <td>LE3.199</td>\n",
       "      <td>1917</td>\n",
       "      <td>630</td>\n",
       "      <td>(LE3.199, No response)</td>\n",
       "    </tr>\n",
       "    <tr>\n",
       "      <th>4</th>\n",
       "      <td>LE3.199</td>\n",
       "      <td>1917</td>\n",
       "      <td>448</td>\n",
       "      <td>(LE3.199, Strongly agree)</td>\n",
       "    </tr>\n",
       "    <tr>\n",
       "      <th>5</th>\n",
       "      <td>LE3.199</td>\n",
       "      <td>1917</td>\n",
       "      <td>95</td>\n",
       "      <td>(LE3.199, Strongly disagree)</td>\n",
       "    </tr>\n",
       "    <tr>\n",
       "      <th>6</th>\n",
       "      <td>LE3.200</td>\n",
       "      <td>1917</td>\n",
       "      <td>526</td>\n",
       "      <td>(LE3.200, Agree)</td>\n",
       "    </tr>\n",
       "    <tr>\n",
       "      <th>7</th>\n",
       "      <td>LE3.200</td>\n",
       "      <td>1917</td>\n",
       "      <td>68</td>\n",
       "      <td>(LE3.200, Disagree)</td>\n",
       "    </tr>\n",
       "    <tr>\n",
       "      <th>8</th>\n",
       "      <td>LE3.200</td>\n",
       "      <td>1917</td>\n",
       "      <td>159</td>\n",
       "      <td>(LE3.200, Neither agree nor disagree)</td>\n",
       "    </tr>\n",
       "    <tr>\n",
       "      <th>9</th>\n",
       "      <td>LE3.200</td>\n",
       "      <td>1917</td>\n",
       "      <td>644</td>\n",
       "      <td>(LE3.200, No response)</td>\n",
       "    </tr>\n",
       "    <tr>\n",
       "      <th>10</th>\n",
       "      <td>LE3.200</td>\n",
       "      <td>1917</td>\n",
       "      <td>435</td>\n",
       "      <td>(LE3.200, Strongly agree)</td>\n",
       "    </tr>\n",
       "    <tr>\n",
       "      <th>11</th>\n",
       "      <td>LE3.200</td>\n",
       "      <td>1917</td>\n",
       "      <td>85</td>\n",
       "      <td>(LE3.200, Strongly disagree)</td>\n",
       "    </tr>\n",
       "    <tr>\n",
       "      <th>12</th>\n",
       "      <td>LE3.201</td>\n",
       "      <td>1917</td>\n",
       "      <td>557</td>\n",
       "      <td>(LE3.201, Agree)</td>\n",
       "    </tr>\n",
       "    <tr>\n",
       "      <th>13</th>\n",
       "      <td>LE3.201</td>\n",
       "      <td>1917</td>\n",
       "      <td>52</td>\n",
       "      <td>(LE3.201, Disagree)</td>\n",
       "    </tr>\n",
       "    <tr>\n",
       "      <th>14</th>\n",
       "      <td>LE3.201</td>\n",
       "      <td>1917</td>\n",
       "      <td>155</td>\n",
       "      <td>(LE3.201, Neither agree nor disagree)</td>\n",
       "    </tr>\n",
       "    <tr>\n",
       "      <th>15</th>\n",
       "      <td>LE3.201</td>\n",
       "      <td>1917</td>\n",
       "      <td>653</td>\n",
       "      <td>(LE3.201, No response)</td>\n",
       "    </tr>\n",
       "    <tr>\n",
       "      <th>16</th>\n",
       "      <td>LE3.201</td>\n",
       "      <td>1917</td>\n",
       "      <td>426</td>\n",
       "      <td>(LE3.201, Strongly agree)</td>\n",
       "    </tr>\n",
       "    <tr>\n",
       "      <th>17</th>\n",
       "      <td>LE3.201</td>\n",
       "      <td>1917</td>\n",
       "      <td>74</td>\n",
       "      <td>(LE3.201, Strongly disagree)</td>\n",
       "    </tr>\n",
       "  </tbody>\n",
       "</table>\n",
       "</div>"
      ],
      "text/plain": [
       "   variable  value_x  value_y                                   info\n",
       "0   LE3.199     1917      553                       (LE3.199, Agree)\n",
       "1   LE3.199     1917       58                    (LE3.199, Disagree)\n",
       "2   LE3.199     1917      133  (LE3.199, Neither agree nor disagree)\n",
       "3   LE3.199     1917      630                 (LE3.199, No response)\n",
       "4   LE3.199     1917      448              (LE3.199, Strongly agree)\n",
       "5   LE3.199     1917       95           (LE3.199, Strongly disagree)\n",
       "6   LE3.200     1917      526                       (LE3.200, Agree)\n",
       "7   LE3.200     1917       68                    (LE3.200, Disagree)\n",
       "8   LE3.200     1917      159  (LE3.200, Neither agree nor disagree)\n",
       "9   LE3.200     1917      644                 (LE3.200, No response)\n",
       "10  LE3.200     1917      435              (LE3.200, Strongly agree)\n",
       "11  LE3.200     1917       85           (LE3.200, Strongly disagree)\n",
       "12  LE3.201     1917      557                       (LE3.201, Agree)\n",
       "13  LE3.201     1917       52                    (LE3.201, Disagree)\n",
       "14  LE3.201     1917      155  (LE3.201, Neither agree nor disagree)\n",
       "15  LE3.201     1917      653                 (LE3.201, No response)\n",
       "16  LE3.201     1917      426              (LE3.201, Strongly agree)\n",
       "17  LE3.201     1917       74           (LE3.201, Strongly disagree)"
      ]
     },
     "execution_count": 17,
     "metadata": {},
     "output_type": "execute_result"
    }
   ],
   "source": [
    "df_5 = pd.merge(df_3, df_4, on='variable', how='right')\n",
    "df_5"
   ]
  },
  {
   "cell_type": "code",
   "execution_count": 18,
   "metadata": {},
   "outputs": [],
   "source": [
    "df_5['info'] = df_5['info'].apply(str)"
   ]
  },
  {
   "cell_type": "code",
   "execution_count": 19,
   "metadata": {},
   "outputs": [
    {
     "data": {
      "application/vnd.plotly.v1+json": {
       "config": {
        "plotlyServerURL": "https://plot.ly"
       },
       "data": [
        {
         "alignmentgroup": "True",
         "hovertemplate": "info=%{x}<br>value_y=%{y}<extra></extra>",
         "legendgroup": "",
         "marker": {
          "color": "#636efa",
          "pattern": {
           "shape": ""
          }
         },
         "name": "",
         "offsetgroup": "",
         "orientation": "v",
         "showlegend": false,
         "textposition": "auto",
         "type": "bar",
         "x": [
          "('LE3.199', 'Agree')",
          "('LE3.199', 'Disagree')",
          "('LE3.199', 'Neither agree nor disagree')",
          "('LE3.199', 'No response')",
          "('LE3.199', 'Strongly agree')",
          "('LE3.199', 'Strongly disagree')",
          "('LE3.200', 'Agree')",
          "('LE3.200', 'Disagree')",
          "('LE3.200', 'Neither agree nor disagree')",
          "('LE3.200', 'No response')",
          "('LE3.200', 'Strongly agree')",
          "('LE3.200', 'Strongly disagree')",
          "('LE3.201', 'Agree')",
          "('LE3.201', 'Disagree')",
          "('LE3.201', 'Neither agree nor disagree')",
          "('LE3.201', 'No response')",
          "('LE3.201', 'Strongly agree')",
          "('LE3.201', 'Strongly disagree')"
         ],
         "xaxis": "x",
         "y": [
          553,
          58,
          133,
          630,
          448,
          95,
          526,
          68,
          159,
          644,
          435,
          85,
          557,
          52,
          155,
          653,
          426,
          74
         ],
         "yaxis": "y"
        }
       ],
       "layout": {
        "barmode": "relative",
        "legend": {
         "tracegroupgap": 0
        },
        "margin": {
         "t": 60
        },
        "template": {
         "data": {
          "bar": [
           {
            "error_x": {
             "color": "#2a3f5f"
            },
            "error_y": {
             "color": "#2a3f5f"
            },
            "marker": {
             "line": {
              "color": "#E5ECF6",
              "width": 0.5
             },
             "pattern": {
              "fillmode": "overlay",
              "size": 10,
              "solidity": 0.2
             }
            },
            "type": "bar"
           }
          ],
          "barpolar": [
           {
            "marker": {
             "line": {
              "color": "#E5ECF6",
              "width": 0.5
             },
             "pattern": {
              "fillmode": "overlay",
              "size": 10,
              "solidity": 0.2
             }
            },
            "type": "barpolar"
           }
          ],
          "carpet": [
           {
            "aaxis": {
             "endlinecolor": "#2a3f5f",
             "gridcolor": "white",
             "linecolor": "white",
             "minorgridcolor": "white",
             "startlinecolor": "#2a3f5f"
            },
            "baxis": {
             "endlinecolor": "#2a3f5f",
             "gridcolor": "white",
             "linecolor": "white",
             "minorgridcolor": "white",
             "startlinecolor": "#2a3f5f"
            },
            "type": "carpet"
           }
          ],
          "choropleth": [
           {
            "colorbar": {
             "outlinewidth": 0,
             "ticks": ""
            },
            "type": "choropleth"
           }
          ],
          "contour": [
           {
            "colorbar": {
             "outlinewidth": 0,
             "ticks": ""
            },
            "colorscale": [
             [
              0,
              "#0d0887"
             ],
             [
              0.1111111111111111,
              "#46039f"
             ],
             [
              0.2222222222222222,
              "#7201a8"
             ],
             [
              0.3333333333333333,
              "#9c179e"
             ],
             [
              0.4444444444444444,
              "#bd3786"
             ],
             [
              0.5555555555555556,
              "#d8576b"
             ],
             [
              0.6666666666666666,
              "#ed7953"
             ],
             [
              0.7777777777777778,
              "#fb9f3a"
             ],
             [
              0.8888888888888888,
              "#fdca26"
             ],
             [
              1,
              "#f0f921"
             ]
            ],
            "type": "contour"
           }
          ],
          "contourcarpet": [
           {
            "colorbar": {
             "outlinewidth": 0,
             "ticks": ""
            },
            "type": "contourcarpet"
           }
          ],
          "heatmap": [
           {
            "colorbar": {
             "outlinewidth": 0,
             "ticks": ""
            },
            "colorscale": [
             [
              0,
              "#0d0887"
             ],
             [
              0.1111111111111111,
              "#46039f"
             ],
             [
              0.2222222222222222,
              "#7201a8"
             ],
             [
              0.3333333333333333,
              "#9c179e"
             ],
             [
              0.4444444444444444,
              "#bd3786"
             ],
             [
              0.5555555555555556,
              "#d8576b"
             ],
             [
              0.6666666666666666,
              "#ed7953"
             ],
             [
              0.7777777777777778,
              "#fb9f3a"
             ],
             [
              0.8888888888888888,
              "#fdca26"
             ],
             [
              1,
              "#f0f921"
             ]
            ],
            "type": "heatmap"
           }
          ],
          "heatmapgl": [
           {
            "colorbar": {
             "outlinewidth": 0,
             "ticks": ""
            },
            "colorscale": [
             [
              0,
              "#0d0887"
             ],
             [
              0.1111111111111111,
              "#46039f"
             ],
             [
              0.2222222222222222,
              "#7201a8"
             ],
             [
              0.3333333333333333,
              "#9c179e"
             ],
             [
              0.4444444444444444,
              "#bd3786"
             ],
             [
              0.5555555555555556,
              "#d8576b"
             ],
             [
              0.6666666666666666,
              "#ed7953"
             ],
             [
              0.7777777777777778,
              "#fb9f3a"
             ],
             [
              0.8888888888888888,
              "#fdca26"
             ],
             [
              1,
              "#f0f921"
             ]
            ],
            "type": "heatmapgl"
           }
          ],
          "histogram": [
           {
            "marker": {
             "pattern": {
              "fillmode": "overlay",
              "size": 10,
              "solidity": 0.2
             }
            },
            "type": "histogram"
           }
          ],
          "histogram2d": [
           {
            "colorbar": {
             "outlinewidth": 0,
             "ticks": ""
            },
            "colorscale": [
             [
              0,
              "#0d0887"
             ],
             [
              0.1111111111111111,
              "#46039f"
             ],
             [
              0.2222222222222222,
              "#7201a8"
             ],
             [
              0.3333333333333333,
              "#9c179e"
             ],
             [
              0.4444444444444444,
              "#bd3786"
             ],
             [
              0.5555555555555556,
              "#d8576b"
             ],
             [
              0.6666666666666666,
              "#ed7953"
             ],
             [
              0.7777777777777778,
              "#fb9f3a"
             ],
             [
              0.8888888888888888,
              "#fdca26"
             ],
             [
              1,
              "#f0f921"
             ]
            ],
            "type": "histogram2d"
           }
          ],
          "histogram2dcontour": [
           {
            "colorbar": {
             "outlinewidth": 0,
             "ticks": ""
            },
            "colorscale": [
             [
              0,
              "#0d0887"
             ],
             [
              0.1111111111111111,
              "#46039f"
             ],
             [
              0.2222222222222222,
              "#7201a8"
             ],
             [
              0.3333333333333333,
              "#9c179e"
             ],
             [
              0.4444444444444444,
              "#bd3786"
             ],
             [
              0.5555555555555556,
              "#d8576b"
             ],
             [
              0.6666666666666666,
              "#ed7953"
             ],
             [
              0.7777777777777778,
              "#fb9f3a"
             ],
             [
              0.8888888888888888,
              "#fdca26"
             ],
             [
              1,
              "#f0f921"
             ]
            ],
            "type": "histogram2dcontour"
           }
          ],
          "mesh3d": [
           {
            "colorbar": {
             "outlinewidth": 0,
             "ticks": ""
            },
            "type": "mesh3d"
           }
          ],
          "parcoords": [
           {
            "line": {
             "colorbar": {
              "outlinewidth": 0,
              "ticks": ""
             }
            },
            "type": "parcoords"
           }
          ],
          "pie": [
           {
            "automargin": true,
            "type": "pie"
           }
          ],
          "scatter": [
           {
            "fillpattern": {
             "fillmode": "overlay",
             "size": 10,
             "solidity": 0.2
            },
            "type": "scatter"
           }
          ],
          "scatter3d": [
           {
            "line": {
             "colorbar": {
              "outlinewidth": 0,
              "ticks": ""
             }
            },
            "marker": {
             "colorbar": {
              "outlinewidth": 0,
              "ticks": ""
             }
            },
            "type": "scatter3d"
           }
          ],
          "scattercarpet": [
           {
            "marker": {
             "colorbar": {
              "outlinewidth": 0,
              "ticks": ""
             }
            },
            "type": "scattercarpet"
           }
          ],
          "scattergeo": [
           {
            "marker": {
             "colorbar": {
              "outlinewidth": 0,
              "ticks": ""
             }
            },
            "type": "scattergeo"
           }
          ],
          "scattergl": [
           {
            "marker": {
             "colorbar": {
              "outlinewidth": 0,
              "ticks": ""
             }
            },
            "type": "scattergl"
           }
          ],
          "scattermapbox": [
           {
            "marker": {
             "colorbar": {
              "outlinewidth": 0,
              "ticks": ""
             }
            },
            "type": "scattermapbox"
           }
          ],
          "scatterpolar": [
           {
            "marker": {
             "colorbar": {
              "outlinewidth": 0,
              "ticks": ""
             }
            },
            "type": "scatterpolar"
           }
          ],
          "scatterpolargl": [
           {
            "marker": {
             "colorbar": {
              "outlinewidth": 0,
              "ticks": ""
             }
            },
            "type": "scatterpolargl"
           }
          ],
          "scatterternary": [
           {
            "marker": {
             "colorbar": {
              "outlinewidth": 0,
              "ticks": ""
             }
            },
            "type": "scatterternary"
           }
          ],
          "surface": [
           {
            "colorbar": {
             "outlinewidth": 0,
             "ticks": ""
            },
            "colorscale": [
             [
              0,
              "#0d0887"
             ],
             [
              0.1111111111111111,
              "#46039f"
             ],
             [
              0.2222222222222222,
              "#7201a8"
             ],
             [
              0.3333333333333333,
              "#9c179e"
             ],
             [
              0.4444444444444444,
              "#bd3786"
             ],
             [
              0.5555555555555556,
              "#d8576b"
             ],
             [
              0.6666666666666666,
              "#ed7953"
             ],
             [
              0.7777777777777778,
              "#fb9f3a"
             ],
             [
              0.8888888888888888,
              "#fdca26"
             ],
             [
              1,
              "#f0f921"
             ]
            ],
            "type": "surface"
           }
          ],
          "table": [
           {
            "cells": {
             "fill": {
              "color": "#EBF0F8"
             },
             "line": {
              "color": "white"
             }
            },
            "header": {
             "fill": {
              "color": "#C8D4E3"
             },
             "line": {
              "color": "white"
             }
            },
            "type": "table"
           }
          ]
         },
         "layout": {
          "annotationdefaults": {
           "arrowcolor": "#2a3f5f",
           "arrowhead": 0,
           "arrowwidth": 1
          },
          "autotypenumbers": "strict",
          "coloraxis": {
           "colorbar": {
            "outlinewidth": 0,
            "ticks": ""
           }
          },
          "colorscale": {
           "diverging": [
            [
             0,
             "#8e0152"
            ],
            [
             0.1,
             "#c51b7d"
            ],
            [
             0.2,
             "#de77ae"
            ],
            [
             0.3,
             "#f1b6da"
            ],
            [
             0.4,
             "#fde0ef"
            ],
            [
             0.5,
             "#f7f7f7"
            ],
            [
             0.6,
             "#e6f5d0"
            ],
            [
             0.7,
             "#b8e186"
            ],
            [
             0.8,
             "#7fbc41"
            ],
            [
             0.9,
             "#4d9221"
            ],
            [
             1,
             "#276419"
            ]
           ],
           "sequential": [
            [
             0,
             "#0d0887"
            ],
            [
             0.1111111111111111,
             "#46039f"
            ],
            [
             0.2222222222222222,
             "#7201a8"
            ],
            [
             0.3333333333333333,
             "#9c179e"
            ],
            [
             0.4444444444444444,
             "#bd3786"
            ],
            [
             0.5555555555555556,
             "#d8576b"
            ],
            [
             0.6666666666666666,
             "#ed7953"
            ],
            [
             0.7777777777777778,
             "#fb9f3a"
            ],
            [
             0.8888888888888888,
             "#fdca26"
            ],
            [
             1,
             "#f0f921"
            ]
           ],
           "sequentialminus": [
            [
             0,
             "#0d0887"
            ],
            [
             0.1111111111111111,
             "#46039f"
            ],
            [
             0.2222222222222222,
             "#7201a8"
            ],
            [
             0.3333333333333333,
             "#9c179e"
            ],
            [
             0.4444444444444444,
             "#bd3786"
            ],
            [
             0.5555555555555556,
             "#d8576b"
            ],
            [
             0.6666666666666666,
             "#ed7953"
            ],
            [
             0.7777777777777778,
             "#fb9f3a"
            ],
            [
             0.8888888888888888,
             "#fdca26"
            ],
            [
             1,
             "#f0f921"
            ]
           ]
          },
          "colorway": [
           "#636efa",
           "#EF553B",
           "#00cc96",
           "#ab63fa",
           "#FFA15A",
           "#19d3f3",
           "#FF6692",
           "#B6E880",
           "#FF97FF",
           "#FECB52"
          ],
          "font": {
           "color": "#2a3f5f"
          },
          "geo": {
           "bgcolor": "white",
           "lakecolor": "white",
           "landcolor": "#E5ECF6",
           "showlakes": true,
           "showland": true,
           "subunitcolor": "white"
          },
          "hoverlabel": {
           "align": "left"
          },
          "hovermode": "closest",
          "mapbox": {
           "style": "light"
          },
          "paper_bgcolor": "white",
          "plot_bgcolor": "#E5ECF6",
          "polar": {
           "angularaxis": {
            "gridcolor": "white",
            "linecolor": "white",
            "ticks": ""
           },
           "bgcolor": "#E5ECF6",
           "radialaxis": {
            "gridcolor": "white",
            "linecolor": "white",
            "ticks": ""
           }
          },
          "scene": {
           "xaxis": {
            "backgroundcolor": "#E5ECF6",
            "gridcolor": "white",
            "gridwidth": 2,
            "linecolor": "white",
            "showbackground": true,
            "ticks": "",
            "zerolinecolor": "white"
           },
           "yaxis": {
            "backgroundcolor": "#E5ECF6",
            "gridcolor": "white",
            "gridwidth": 2,
            "linecolor": "white",
            "showbackground": true,
            "ticks": "",
            "zerolinecolor": "white"
           },
           "zaxis": {
            "backgroundcolor": "#E5ECF6",
            "gridcolor": "white",
            "gridwidth": 2,
            "linecolor": "white",
            "showbackground": true,
            "ticks": "",
            "zerolinecolor": "white"
           }
          },
          "shapedefaults": {
           "line": {
            "color": "#2a3f5f"
           }
          },
          "ternary": {
           "aaxis": {
            "gridcolor": "white",
            "linecolor": "white",
            "ticks": ""
           },
           "baxis": {
            "gridcolor": "white",
            "linecolor": "white",
            "ticks": ""
           },
           "bgcolor": "#E5ECF6",
           "caxis": {
            "gridcolor": "white",
            "linecolor": "white",
            "ticks": ""
           }
          },
          "title": {
           "x": 0.05
          },
          "xaxis": {
           "automargin": true,
           "gridcolor": "white",
           "linecolor": "white",
           "ticks": "",
           "title": {
            "standoff": 15
           },
           "zerolinecolor": "white",
           "zerolinewidth": 2
          },
          "yaxis": {
           "automargin": true,
           "gridcolor": "white",
           "linecolor": "white",
           "ticks": "",
           "title": {
            "standoff": 15
           },
           "zerolinecolor": "white",
           "zerolinewidth": 2
          }
         }
        },
        "xaxis": {
         "anchor": "y",
         "domain": [
          0,
          1
         ],
         "title": {
          "text": "info"
         }
        },
        "yaxis": {
         "anchor": "x",
         "domain": [
          0,
          1
         ],
         "title": {
          "text": "value_y"
         }
        }
       }
      }
     },
     "metadata": {},
     "output_type": "display_data"
    }
   ],
   "source": [
    "px.bar(df_5, x='info', y= 'value_y')"
   ]
  },
  {
   "cell_type": "code",
   "execution_count": 20,
   "metadata": {},
   "outputs": [
    {
     "data": {
      "text/html": [
       "<div>\n",
       "<style scoped>\n",
       "    .dataframe tbody tr th:only-of-type {\n",
       "        vertical-align: middle;\n",
       "    }\n",
       "\n",
       "    .dataframe tbody tr th {\n",
       "        vertical-align: top;\n",
       "    }\n",
       "\n",
       "    .dataframe thead th {\n",
       "        text-align: right;\n",
       "    }\n",
       "</style>\n",
       "<table border=\"1\" class=\"dataframe\">\n",
       "  <thead>\n",
       "    <tr style=\"text-align: right;\">\n",
       "      <th></th>\n",
       "      <th>variable</th>\n",
       "      <th>value_x</th>\n",
       "      <th>value_y</th>\n",
       "      <th>info</th>\n",
       "      <th>prop</th>\n",
       "    </tr>\n",
       "  </thead>\n",
       "  <tbody>\n",
       "    <tr>\n",
       "      <th>0</th>\n",
       "      <td>LE3.199</td>\n",
       "      <td>1917</td>\n",
       "      <td>553</td>\n",
       "      <td>('LE3.199', 'Agree')</td>\n",
       "      <td>0.288472</td>\n",
       "    </tr>\n",
       "    <tr>\n",
       "      <th>1</th>\n",
       "      <td>LE3.199</td>\n",
       "      <td>1917</td>\n",
       "      <td>58</td>\n",
       "      <td>('LE3.199', 'Disagree')</td>\n",
       "      <td>0.030256</td>\n",
       "    </tr>\n",
       "    <tr>\n",
       "      <th>2</th>\n",
       "      <td>LE3.199</td>\n",
       "      <td>1917</td>\n",
       "      <td>133</td>\n",
       "      <td>('LE3.199', 'Neither agree nor disagree')</td>\n",
       "      <td>0.069379</td>\n",
       "    </tr>\n",
       "    <tr>\n",
       "      <th>3</th>\n",
       "      <td>LE3.199</td>\n",
       "      <td>1917</td>\n",
       "      <td>630</td>\n",
       "      <td>('LE3.199', 'No response')</td>\n",
       "      <td>0.328638</td>\n",
       "    </tr>\n",
       "    <tr>\n",
       "      <th>4</th>\n",
       "      <td>LE3.199</td>\n",
       "      <td>1917</td>\n",
       "      <td>448</td>\n",
       "      <td>('LE3.199', 'Strongly agree')</td>\n",
       "      <td>0.233698</td>\n",
       "    </tr>\n",
       "    <tr>\n",
       "      <th>5</th>\n",
       "      <td>LE3.199</td>\n",
       "      <td>1917</td>\n",
       "      <td>95</td>\n",
       "      <td>('LE3.199', 'Strongly disagree')</td>\n",
       "      <td>0.049557</td>\n",
       "    </tr>\n",
       "    <tr>\n",
       "      <th>6</th>\n",
       "      <td>LE3.200</td>\n",
       "      <td>1917</td>\n",
       "      <td>526</td>\n",
       "      <td>('LE3.200', 'Agree')</td>\n",
       "      <td>0.274387</td>\n",
       "    </tr>\n",
       "    <tr>\n",
       "      <th>7</th>\n",
       "      <td>LE3.200</td>\n",
       "      <td>1917</td>\n",
       "      <td>68</td>\n",
       "      <td>('LE3.200', 'Disagree')</td>\n",
       "      <td>0.035472</td>\n",
       "    </tr>\n",
       "    <tr>\n",
       "      <th>8</th>\n",
       "      <td>LE3.200</td>\n",
       "      <td>1917</td>\n",
       "      <td>159</td>\n",
       "      <td>('LE3.200', 'Neither agree nor disagree')</td>\n",
       "      <td>0.082942</td>\n",
       "    </tr>\n",
       "    <tr>\n",
       "      <th>9</th>\n",
       "      <td>LE3.200</td>\n",
       "      <td>1917</td>\n",
       "      <td>644</td>\n",
       "      <td>('LE3.200', 'No response')</td>\n",
       "      <td>0.335942</td>\n",
       "    </tr>\n",
       "    <tr>\n",
       "      <th>10</th>\n",
       "      <td>LE3.200</td>\n",
       "      <td>1917</td>\n",
       "      <td>435</td>\n",
       "      <td>('LE3.200', 'Strongly agree')</td>\n",
       "      <td>0.226917</td>\n",
       "    </tr>\n",
       "    <tr>\n",
       "      <th>11</th>\n",
       "      <td>LE3.200</td>\n",
       "      <td>1917</td>\n",
       "      <td>85</td>\n",
       "      <td>('LE3.200', 'Strongly disagree')</td>\n",
       "      <td>0.044340</td>\n",
       "    </tr>\n",
       "    <tr>\n",
       "      <th>12</th>\n",
       "      <td>LE3.201</td>\n",
       "      <td>1917</td>\n",
       "      <td>557</td>\n",
       "      <td>('LE3.201', 'Agree')</td>\n",
       "      <td>0.290558</td>\n",
       "    </tr>\n",
       "    <tr>\n",
       "      <th>13</th>\n",
       "      <td>LE3.201</td>\n",
       "      <td>1917</td>\n",
       "      <td>52</td>\n",
       "      <td>('LE3.201', 'Disagree')</td>\n",
       "      <td>0.027126</td>\n",
       "    </tr>\n",
       "    <tr>\n",
       "      <th>14</th>\n",
       "      <td>LE3.201</td>\n",
       "      <td>1917</td>\n",
       "      <td>155</td>\n",
       "      <td>('LE3.201', 'Neither agree nor disagree')</td>\n",
       "      <td>0.080856</td>\n",
       "    </tr>\n",
       "    <tr>\n",
       "      <th>15</th>\n",
       "      <td>LE3.201</td>\n",
       "      <td>1917</td>\n",
       "      <td>653</td>\n",
       "      <td>('LE3.201', 'No response')</td>\n",
       "      <td>0.340636</td>\n",
       "    </tr>\n",
       "    <tr>\n",
       "      <th>16</th>\n",
       "      <td>LE3.201</td>\n",
       "      <td>1917</td>\n",
       "      <td>426</td>\n",
       "      <td>('LE3.201', 'Strongly agree')</td>\n",
       "      <td>0.222222</td>\n",
       "    </tr>\n",
       "    <tr>\n",
       "      <th>17</th>\n",
       "      <td>LE3.201</td>\n",
       "      <td>1917</td>\n",
       "      <td>74</td>\n",
       "      <td>('LE3.201', 'Strongly disagree')</td>\n",
       "      <td>0.038602</td>\n",
       "    </tr>\n",
       "  </tbody>\n",
       "</table>\n",
       "</div>"
      ],
      "text/plain": [
       "   variable  value_x  value_y                                       info  \\\n",
       "0   LE3.199     1917      553                       ('LE3.199', 'Agree')   \n",
       "1   LE3.199     1917       58                    ('LE3.199', 'Disagree')   \n",
       "2   LE3.199     1917      133  ('LE3.199', 'Neither agree nor disagree')   \n",
       "3   LE3.199     1917      630                 ('LE3.199', 'No response')   \n",
       "4   LE3.199     1917      448              ('LE3.199', 'Strongly agree')   \n",
       "5   LE3.199     1917       95           ('LE3.199', 'Strongly disagree')   \n",
       "6   LE3.200     1917      526                       ('LE3.200', 'Agree')   \n",
       "7   LE3.200     1917       68                    ('LE3.200', 'Disagree')   \n",
       "8   LE3.200     1917      159  ('LE3.200', 'Neither agree nor disagree')   \n",
       "9   LE3.200     1917      644                 ('LE3.200', 'No response')   \n",
       "10  LE3.200     1917      435              ('LE3.200', 'Strongly agree')   \n",
       "11  LE3.200     1917       85           ('LE3.200', 'Strongly disagree')   \n",
       "12  LE3.201     1917      557                       ('LE3.201', 'Agree')   \n",
       "13  LE3.201     1917       52                    ('LE3.201', 'Disagree')   \n",
       "14  LE3.201     1917      155  ('LE3.201', 'Neither agree nor disagree')   \n",
       "15  LE3.201     1917      653                 ('LE3.201', 'No response')   \n",
       "16  LE3.201     1917      426              ('LE3.201', 'Strongly agree')   \n",
       "17  LE3.201     1917       74           ('LE3.201', 'Strongly disagree')   \n",
       "\n",
       "        prop  \n",
       "0   0.288472  \n",
       "1   0.030256  \n",
       "2   0.069379  \n",
       "3   0.328638  \n",
       "4   0.233698  \n",
       "5   0.049557  \n",
       "6   0.274387  \n",
       "7   0.035472  \n",
       "8   0.082942  \n",
       "9   0.335942  \n",
       "10  0.226917  \n",
       "11  0.044340  \n",
       "12  0.290558  \n",
       "13  0.027126  \n",
       "14  0.080856  \n",
       "15  0.340636  \n",
       "16  0.222222  \n",
       "17  0.038602  "
      ]
     },
     "execution_count": 20,
     "metadata": {},
     "output_type": "execute_result"
    }
   ],
   "source": [
    "df_5['prop'] = df_5['value_y']/df_5['value_x']\n",
    "df_5"
   ]
  },
  {
   "cell_type": "code",
   "execution_count": 21,
   "metadata": {},
   "outputs": [
    {
     "data": {
      "application/vnd.plotly.v1+json": {
       "config": {
        "plotlyServerURL": "https://plot.ly"
       },
       "data": [
        {
         "alignmentgroup": "True",
         "hovertemplate": "variable=LE3.199<br>info=%{x}<br>prop=%{y}<extra></extra>",
         "legendgroup": "LE3.199",
         "marker": {
          "color": "#636efa",
          "pattern": {
           "shape": ""
          }
         },
         "name": "LE3.199",
         "offsetgroup": "LE3.199",
         "orientation": "v",
         "showlegend": true,
         "textposition": "auto",
         "type": "bar",
         "x": [
          "('LE3.199', 'Agree')",
          "('LE3.199', 'Disagree')",
          "('LE3.199', 'Neither agree nor disagree')",
          "('LE3.199', 'No response')",
          "('LE3.199', 'Strongly agree')",
          "('LE3.199', 'Strongly disagree')"
         ],
         "xaxis": "x",
         "y": [
          0.288471570161711,
          0.03025560772039645,
          0.0693792383933229,
          0.3286384976525822,
          0.23369848721961398,
          0.0495565988523735
         ],
         "yaxis": "y"
        },
        {
         "alignmentgroup": "True",
         "hovertemplate": "variable=LE3.200<br>info=%{x}<br>prop=%{y}<extra></extra>",
         "legendgroup": "LE3.200",
         "marker": {
          "color": "#EF553B",
          "pattern": {
           "shape": ""
          }
         },
         "name": "LE3.200",
         "offsetgroup": "LE3.200",
         "orientation": "v",
         "showlegend": true,
         "textposition": "auto",
         "type": "bar",
         "x": [
          "('LE3.200', 'Agree')",
          "('LE3.200', 'Disagree')",
          "('LE3.200', 'Neither agree nor disagree')",
          "('LE3.200', 'No response')",
          "('LE3.200', 'Strongly agree')",
          "('LE3.200', 'Strongly disagree')"
         ],
         "xaxis": "x",
         "y": [
          0.2743870631194575,
          0.03547209181011998,
          0.08294209702660407,
          0.3359415753781951,
          0.2269170579029734,
          0.04434011476264997
         ],
         "yaxis": "y"
        },
        {
         "alignmentgroup": "True",
         "hovertemplate": "variable=LE3.201<br>info=%{x}<br>prop=%{y}<extra></extra>",
         "legendgroup": "LE3.201",
         "marker": {
          "color": "#00cc96",
          "pattern": {
           "shape": ""
          }
         },
         "name": "LE3.201",
         "offsetgroup": "LE3.201",
         "orientation": "v",
         "showlegend": true,
         "textposition": "auto",
         "type": "bar",
         "x": [
          "('LE3.201', 'Agree')",
          "('LE3.201', 'Disagree')",
          "('LE3.201', 'Neither agree nor disagree')",
          "('LE3.201', 'No response')",
          "('LE3.201', 'Strongly agree')",
          "('LE3.201', 'Strongly disagree')"
         ],
         "xaxis": "x",
         "y": [
          0.2905581637976004,
          0.027125717266562335,
          0.08085550339071466,
          0.34063641105894626,
          0.2222222222222222,
          0.038601982263954095
         ],
         "yaxis": "y"
        }
       ],
       "layout": {
        "barmode": "relative",
        "legend": {
         "title": {
          "text": "variable"
         },
         "tracegroupgap": 0
        },
        "margin": {
         "t": 60
        },
        "template": {
         "data": {
          "bar": [
           {
            "error_x": {
             "color": "#2a3f5f"
            },
            "error_y": {
             "color": "#2a3f5f"
            },
            "marker": {
             "line": {
              "color": "#E5ECF6",
              "width": 0.5
             },
             "pattern": {
              "fillmode": "overlay",
              "size": 10,
              "solidity": 0.2
             }
            },
            "type": "bar"
           }
          ],
          "barpolar": [
           {
            "marker": {
             "line": {
              "color": "#E5ECF6",
              "width": 0.5
             },
             "pattern": {
              "fillmode": "overlay",
              "size": 10,
              "solidity": 0.2
             }
            },
            "type": "barpolar"
           }
          ],
          "carpet": [
           {
            "aaxis": {
             "endlinecolor": "#2a3f5f",
             "gridcolor": "white",
             "linecolor": "white",
             "minorgridcolor": "white",
             "startlinecolor": "#2a3f5f"
            },
            "baxis": {
             "endlinecolor": "#2a3f5f",
             "gridcolor": "white",
             "linecolor": "white",
             "minorgridcolor": "white",
             "startlinecolor": "#2a3f5f"
            },
            "type": "carpet"
           }
          ],
          "choropleth": [
           {
            "colorbar": {
             "outlinewidth": 0,
             "ticks": ""
            },
            "type": "choropleth"
           }
          ],
          "contour": [
           {
            "colorbar": {
             "outlinewidth": 0,
             "ticks": ""
            },
            "colorscale": [
             [
              0,
              "#0d0887"
             ],
             [
              0.1111111111111111,
              "#46039f"
             ],
             [
              0.2222222222222222,
              "#7201a8"
             ],
             [
              0.3333333333333333,
              "#9c179e"
             ],
             [
              0.4444444444444444,
              "#bd3786"
             ],
             [
              0.5555555555555556,
              "#d8576b"
             ],
             [
              0.6666666666666666,
              "#ed7953"
             ],
             [
              0.7777777777777778,
              "#fb9f3a"
             ],
             [
              0.8888888888888888,
              "#fdca26"
             ],
             [
              1,
              "#f0f921"
             ]
            ],
            "type": "contour"
           }
          ],
          "contourcarpet": [
           {
            "colorbar": {
             "outlinewidth": 0,
             "ticks": ""
            },
            "type": "contourcarpet"
           }
          ],
          "heatmap": [
           {
            "colorbar": {
             "outlinewidth": 0,
             "ticks": ""
            },
            "colorscale": [
             [
              0,
              "#0d0887"
             ],
             [
              0.1111111111111111,
              "#46039f"
             ],
             [
              0.2222222222222222,
              "#7201a8"
             ],
             [
              0.3333333333333333,
              "#9c179e"
             ],
             [
              0.4444444444444444,
              "#bd3786"
             ],
             [
              0.5555555555555556,
              "#d8576b"
             ],
             [
              0.6666666666666666,
              "#ed7953"
             ],
             [
              0.7777777777777778,
              "#fb9f3a"
             ],
             [
              0.8888888888888888,
              "#fdca26"
             ],
             [
              1,
              "#f0f921"
             ]
            ],
            "type": "heatmap"
           }
          ],
          "heatmapgl": [
           {
            "colorbar": {
             "outlinewidth": 0,
             "ticks": ""
            },
            "colorscale": [
             [
              0,
              "#0d0887"
             ],
             [
              0.1111111111111111,
              "#46039f"
             ],
             [
              0.2222222222222222,
              "#7201a8"
             ],
             [
              0.3333333333333333,
              "#9c179e"
             ],
             [
              0.4444444444444444,
              "#bd3786"
             ],
             [
              0.5555555555555556,
              "#d8576b"
             ],
             [
              0.6666666666666666,
              "#ed7953"
             ],
             [
              0.7777777777777778,
              "#fb9f3a"
             ],
             [
              0.8888888888888888,
              "#fdca26"
             ],
             [
              1,
              "#f0f921"
             ]
            ],
            "type": "heatmapgl"
           }
          ],
          "histogram": [
           {
            "marker": {
             "pattern": {
              "fillmode": "overlay",
              "size": 10,
              "solidity": 0.2
             }
            },
            "type": "histogram"
           }
          ],
          "histogram2d": [
           {
            "colorbar": {
             "outlinewidth": 0,
             "ticks": ""
            },
            "colorscale": [
             [
              0,
              "#0d0887"
             ],
             [
              0.1111111111111111,
              "#46039f"
             ],
             [
              0.2222222222222222,
              "#7201a8"
             ],
             [
              0.3333333333333333,
              "#9c179e"
             ],
             [
              0.4444444444444444,
              "#bd3786"
             ],
             [
              0.5555555555555556,
              "#d8576b"
             ],
             [
              0.6666666666666666,
              "#ed7953"
             ],
             [
              0.7777777777777778,
              "#fb9f3a"
             ],
             [
              0.8888888888888888,
              "#fdca26"
             ],
             [
              1,
              "#f0f921"
             ]
            ],
            "type": "histogram2d"
           }
          ],
          "histogram2dcontour": [
           {
            "colorbar": {
             "outlinewidth": 0,
             "ticks": ""
            },
            "colorscale": [
             [
              0,
              "#0d0887"
             ],
             [
              0.1111111111111111,
              "#46039f"
             ],
             [
              0.2222222222222222,
              "#7201a8"
             ],
             [
              0.3333333333333333,
              "#9c179e"
             ],
             [
              0.4444444444444444,
              "#bd3786"
             ],
             [
              0.5555555555555556,
              "#d8576b"
             ],
             [
              0.6666666666666666,
              "#ed7953"
             ],
             [
              0.7777777777777778,
              "#fb9f3a"
             ],
             [
              0.8888888888888888,
              "#fdca26"
             ],
             [
              1,
              "#f0f921"
             ]
            ],
            "type": "histogram2dcontour"
           }
          ],
          "mesh3d": [
           {
            "colorbar": {
             "outlinewidth": 0,
             "ticks": ""
            },
            "type": "mesh3d"
           }
          ],
          "parcoords": [
           {
            "line": {
             "colorbar": {
              "outlinewidth": 0,
              "ticks": ""
             }
            },
            "type": "parcoords"
           }
          ],
          "pie": [
           {
            "automargin": true,
            "type": "pie"
           }
          ],
          "scatter": [
           {
            "fillpattern": {
             "fillmode": "overlay",
             "size": 10,
             "solidity": 0.2
            },
            "type": "scatter"
           }
          ],
          "scatter3d": [
           {
            "line": {
             "colorbar": {
              "outlinewidth": 0,
              "ticks": ""
             }
            },
            "marker": {
             "colorbar": {
              "outlinewidth": 0,
              "ticks": ""
             }
            },
            "type": "scatter3d"
           }
          ],
          "scattercarpet": [
           {
            "marker": {
             "colorbar": {
              "outlinewidth": 0,
              "ticks": ""
             }
            },
            "type": "scattercarpet"
           }
          ],
          "scattergeo": [
           {
            "marker": {
             "colorbar": {
              "outlinewidth": 0,
              "ticks": ""
             }
            },
            "type": "scattergeo"
           }
          ],
          "scattergl": [
           {
            "marker": {
             "colorbar": {
              "outlinewidth": 0,
              "ticks": ""
             }
            },
            "type": "scattergl"
           }
          ],
          "scattermapbox": [
           {
            "marker": {
             "colorbar": {
              "outlinewidth": 0,
              "ticks": ""
             }
            },
            "type": "scattermapbox"
           }
          ],
          "scatterpolar": [
           {
            "marker": {
             "colorbar": {
              "outlinewidth": 0,
              "ticks": ""
             }
            },
            "type": "scatterpolar"
           }
          ],
          "scatterpolargl": [
           {
            "marker": {
             "colorbar": {
              "outlinewidth": 0,
              "ticks": ""
             }
            },
            "type": "scatterpolargl"
           }
          ],
          "scatterternary": [
           {
            "marker": {
             "colorbar": {
              "outlinewidth": 0,
              "ticks": ""
             }
            },
            "type": "scatterternary"
           }
          ],
          "surface": [
           {
            "colorbar": {
             "outlinewidth": 0,
             "ticks": ""
            },
            "colorscale": [
             [
              0,
              "#0d0887"
             ],
             [
              0.1111111111111111,
              "#46039f"
             ],
             [
              0.2222222222222222,
              "#7201a8"
             ],
             [
              0.3333333333333333,
              "#9c179e"
             ],
             [
              0.4444444444444444,
              "#bd3786"
             ],
             [
              0.5555555555555556,
              "#d8576b"
             ],
             [
              0.6666666666666666,
              "#ed7953"
             ],
             [
              0.7777777777777778,
              "#fb9f3a"
             ],
             [
              0.8888888888888888,
              "#fdca26"
             ],
             [
              1,
              "#f0f921"
             ]
            ],
            "type": "surface"
           }
          ],
          "table": [
           {
            "cells": {
             "fill": {
              "color": "#EBF0F8"
             },
             "line": {
              "color": "white"
             }
            },
            "header": {
             "fill": {
              "color": "#C8D4E3"
             },
             "line": {
              "color": "white"
             }
            },
            "type": "table"
           }
          ]
         },
         "layout": {
          "annotationdefaults": {
           "arrowcolor": "#2a3f5f",
           "arrowhead": 0,
           "arrowwidth": 1
          },
          "autotypenumbers": "strict",
          "coloraxis": {
           "colorbar": {
            "outlinewidth": 0,
            "ticks": ""
           }
          },
          "colorscale": {
           "diverging": [
            [
             0,
             "#8e0152"
            ],
            [
             0.1,
             "#c51b7d"
            ],
            [
             0.2,
             "#de77ae"
            ],
            [
             0.3,
             "#f1b6da"
            ],
            [
             0.4,
             "#fde0ef"
            ],
            [
             0.5,
             "#f7f7f7"
            ],
            [
             0.6,
             "#e6f5d0"
            ],
            [
             0.7,
             "#b8e186"
            ],
            [
             0.8,
             "#7fbc41"
            ],
            [
             0.9,
             "#4d9221"
            ],
            [
             1,
             "#276419"
            ]
           ],
           "sequential": [
            [
             0,
             "#0d0887"
            ],
            [
             0.1111111111111111,
             "#46039f"
            ],
            [
             0.2222222222222222,
             "#7201a8"
            ],
            [
             0.3333333333333333,
             "#9c179e"
            ],
            [
             0.4444444444444444,
             "#bd3786"
            ],
            [
             0.5555555555555556,
             "#d8576b"
            ],
            [
             0.6666666666666666,
             "#ed7953"
            ],
            [
             0.7777777777777778,
             "#fb9f3a"
            ],
            [
             0.8888888888888888,
             "#fdca26"
            ],
            [
             1,
             "#f0f921"
            ]
           ],
           "sequentialminus": [
            [
             0,
             "#0d0887"
            ],
            [
             0.1111111111111111,
             "#46039f"
            ],
            [
             0.2222222222222222,
             "#7201a8"
            ],
            [
             0.3333333333333333,
             "#9c179e"
            ],
            [
             0.4444444444444444,
             "#bd3786"
            ],
            [
             0.5555555555555556,
             "#d8576b"
            ],
            [
             0.6666666666666666,
             "#ed7953"
            ],
            [
             0.7777777777777778,
             "#fb9f3a"
            ],
            [
             0.8888888888888888,
             "#fdca26"
            ],
            [
             1,
             "#f0f921"
            ]
           ]
          },
          "colorway": [
           "#636efa",
           "#EF553B",
           "#00cc96",
           "#ab63fa",
           "#FFA15A",
           "#19d3f3",
           "#FF6692",
           "#B6E880",
           "#FF97FF",
           "#FECB52"
          ],
          "font": {
           "color": "#2a3f5f"
          },
          "geo": {
           "bgcolor": "white",
           "lakecolor": "white",
           "landcolor": "#E5ECF6",
           "showlakes": true,
           "showland": true,
           "subunitcolor": "white"
          },
          "hoverlabel": {
           "align": "left"
          },
          "hovermode": "closest",
          "mapbox": {
           "style": "light"
          },
          "paper_bgcolor": "white",
          "plot_bgcolor": "#E5ECF6",
          "polar": {
           "angularaxis": {
            "gridcolor": "white",
            "linecolor": "white",
            "ticks": ""
           },
           "bgcolor": "#E5ECF6",
           "radialaxis": {
            "gridcolor": "white",
            "linecolor": "white",
            "ticks": ""
           }
          },
          "scene": {
           "xaxis": {
            "backgroundcolor": "#E5ECF6",
            "gridcolor": "white",
            "gridwidth": 2,
            "linecolor": "white",
            "showbackground": true,
            "ticks": "",
            "zerolinecolor": "white"
           },
           "yaxis": {
            "backgroundcolor": "#E5ECF6",
            "gridcolor": "white",
            "gridwidth": 2,
            "linecolor": "white",
            "showbackground": true,
            "ticks": "",
            "zerolinecolor": "white"
           },
           "zaxis": {
            "backgroundcolor": "#E5ECF6",
            "gridcolor": "white",
            "gridwidth": 2,
            "linecolor": "white",
            "showbackground": true,
            "ticks": "",
            "zerolinecolor": "white"
           }
          },
          "shapedefaults": {
           "line": {
            "color": "#2a3f5f"
           }
          },
          "ternary": {
           "aaxis": {
            "gridcolor": "white",
            "linecolor": "white",
            "ticks": ""
           },
           "baxis": {
            "gridcolor": "white",
            "linecolor": "white",
            "ticks": ""
           },
           "bgcolor": "#E5ECF6",
           "caxis": {
            "gridcolor": "white",
            "linecolor": "white",
            "ticks": ""
           }
          },
          "title": {
           "x": 0.05
          },
          "xaxis": {
           "automargin": true,
           "gridcolor": "white",
           "linecolor": "white",
           "ticks": "",
           "title": {
            "standoff": 15
           },
           "zerolinecolor": "white",
           "zerolinewidth": 2
          },
          "yaxis": {
           "automargin": true,
           "gridcolor": "white",
           "linecolor": "white",
           "ticks": "",
           "title": {
            "standoff": 15
           },
           "zerolinecolor": "white",
           "zerolinewidth": 2
          }
         }
        },
        "xaxis": {
         "anchor": "y",
         "domain": [
          0,
          1
         ],
         "title": {
          "text": "info"
         }
        },
        "yaxis": {
         "anchor": "x",
         "domain": [
          0,
          1
         ],
         "title": {
          "text": "prop"
         }
        }
       }
      }
     },
     "metadata": {},
     "output_type": "display_data"
    }
   ],
   "source": [
    "px.bar(df_5, \n",
    "       x='info', \n",
    "       y= 'prop',\n",
    "      color='variable')"
   ]
  },
  {
   "cell_type": "code",
   "execution_count": null,
   "metadata": {},
   "outputs": [],
   "source": []
  }
 ],
 "metadata": {
  "language_info": {
   "name": "python"
  }
 },
 "nbformat": 4,
 "nbformat_minor": 2
}
