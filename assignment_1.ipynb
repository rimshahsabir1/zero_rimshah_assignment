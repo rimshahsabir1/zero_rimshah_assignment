{
 "cells": [
  {
   "cell_type": "markdown",
   "metadata": {},
   "source": [
    "# Data Type \n",
    "##### There are eight data types used in python, \n",
    "###### 1. Text_type: str\n",
    "###### 2. Numeric_types: int, float, complex\n",
    "###### 3. Sequence_types: list, tuple, range\n",
    "###### 4. Mapping_type:\tdict\n",
    "###### 5. Set_Types: set, frozenset\n",
    "###### 6. Boolean_type:\tbool\n",
    "###### 7. Binary_types:\tbytes, bytearray, memoryview\n",
    "###### 8.None_type: NoneType\n",
    "\n"
   ]
  },
  {
   "cell_type": "code",
   "execution_count": 25,
   "metadata": {},
   "outputs": [
    {
     "name": "stdout",
     "output_type": "stream",
     "text": [
      "The course_name: Python programming basic to intermediate\n",
      "Score: 60\n",
      "Grace_marks,: 10.5\n",
      "Total_marks: 70.5\n",
      "Lessons: ['Databases', 'Python']\n",
      "The person: {'firstName': 'Imran', 'lastName': 'khan', 'age': 28}\n",
      "Langs: ('Python', 'JavaScript', 'Golang')\n",
      "Basics: {'HTML', 'CSS', 'JavaScript'}\n"
     ]
    }
   ],
   "source": [
    "# The code here, is use to check the variable types. \n",
    "\n",
    "Course_name = \"Python programming basic to intermediate\"\n",
    "score = 60\n",
    "grace_marks = 10.5\n",
    "total_marks = 70.5\n",
    "lessons =  [ \"Databases\", \"Python\"]\n",
    "person = {\n",
    "    \"firstName\": \"Imran\",\n",
    "    \"lastName\": \"khan\",\n",
    "    \"age\": 28\n",
    "}\n",
    "langs = (\"Python\", \"JavaScript\", \"Golang\")\n",
    "basics = {\"HTML\", \"CSS\", \"JavaScript\"}\n",
    "# display code\n",
    "print(\"The course_name:\",(\"Python programming basic to intermediate\"))\n",
    "print(\"Score:\", (score))\n",
    "print(\"Grace_marks,:\",(grace_marks))\n",
    "print(\"Total_marks:\",(total_marks))\n",
    "print(\"Lessons:\",(lessons))\n",
    "print(\"The person:\",(person))\n",
    "print(\"Langs:\",(langs))\n",
    "print(\"Basics:\", (basics))\n"
   ]
  },
  {
   "cell_type": "code",
   "execution_count": 26,
   "metadata": {},
   "outputs": [
    {
     "name": "stdout",
     "output_type": "stream",
     "text": [
      "The variable, name is of type: <class 'str'>\n",
      "The variable, score is of type: <class 'int'>\n",
      "The variable, score is of type: <class 'float'>\n",
      "The variable, score is of type: <class 'float'>\n",
      "The variable, lessons is of type: <class 'list'>\n",
      "The variable, person is of type: <class 'dict'>\n",
      "The variable, langs is of type: <class 'tuple'>\n",
      "The variable, basics is of type: <class 'set'>\n"
     ]
    }
   ],
   "source": [
    "# By using the build-in (type) function, we will get to know the type of above variables we have defined. \n",
    "\n",
    "print(\"The variable, name is of type:\", type(\"Course_name\"))\n",
    "print(\"The variable, score is of type:\", type(score))\n",
    "print(\"The variable, score is of type:\", type(grace_marks))\n",
    "print(\"The variable, score is of type:\", type(total_marks))\n",
    "print(\"The variable, lessons is of type:\", type(lessons))\n",
    "print(\"The variable, person is of type:\", type(person))\n",
    "print(\"The variable, langs is of type:\", type(langs))\n",
    "print(\"The variable, basics is of type:\", type(basics))"
   ]
  },
  {
   "cell_type": "markdown",
   "metadata": {},
   "source": [
    "###### Ref : https://www.freecodecamp.org/news/python-print-type-of-variable-how-to-get-var-type/ "
   ]
  },
  {
   "cell_type": "markdown",
   "metadata": {},
   "source": [
    "#### 1. Text data type"
   ]
  },
  {
   "cell_type": "code",
   "execution_count": 28,
   "metadata": {},
   "outputs": [
    {
     "name": "stdout",
     "output_type": "stream",
     "text": [
      "Rimshah\n",
      "<class 'str'>\n"
     ]
    }
   ],
   "source": [
    "# defining a variable, and knowing the type of a variable. \n",
    "x = \"Rimshah\"\n",
    "print(x)\n",
    "print(type(x)) \n"
   ]
  },
  {
   "cell_type": "markdown",
   "metadata": {},
   "source": [
    "#### 2. Numeric data type\n",
    "###### The numeric data type have sub types. \n",
    ">> Interger |\n",
    ">> Float |\n",
    ">> Complex"
   ]
  },
  {
   "cell_type": "code",
   "execution_count": 16,
   "metadata": {},
   "outputs": [
    {
     "name": "stdout",
     "output_type": "stream",
     "text": [
      "<class 'int'>\n"
     ]
    }
   ],
   "source": [
    "# Interger data type\n",
    "x = 5\n",
    "print(type(x))"
   ]
  },
  {
   "cell_type": "code",
   "execution_count": 1,
   "metadata": {},
   "outputs": [
    {
     "name": "stdout",
     "output_type": "stream",
     "text": [
      "<class 'float'>\n"
     ]
    }
   ],
   "source": [
    "# Float data type\n",
    "y = 25.5\n",
    "print(type(y))"
   ]
  },
  {
   "cell_type": "code",
   "execution_count": 18,
   "metadata": {},
   "outputs": [
    {
     "name": "stdout",
     "output_type": "stream",
     "text": [
      "<class 'complex'>\n"
     ]
    }
   ],
   "source": [
    "# Complex data type\n",
    "z = 1j\n",
    "print(type(z)) "
   ]
  },
  {
   "cell_type": "markdown",
   "metadata": {},
   "source": [
    "#### Sequence Types. \n",
    "###### It also contain three sub types. \n",
    ">>List |\n",
    ">>Tuple |\n",
    ">>Range\n",
    " \n",
    "###### **List:**  Python lists are ordered, mutable collections that store diverse data and allow various operations like access, modification, and iteration.<br>\n",
    "###### **Tuple:** Tuples in Python are similar to lists but immutable, meaning their elements cannot be changed after creation. They are used for ordered collections where data integrity is crucial.<br>\n",
    "###### **Range:** The range() function in Python generates memory-efficient sequences of numbers with customizable start, stop, and step values."
   ]
  },
  {
   "cell_type": "code",
   "execution_count": 30,
   "metadata": {},
   "outputs": [
    {
     "name": "stdout",
     "output_type": "stream",
     "text": [
      "['apple', 'banana', 'cherry']\n",
      "<class 'list'>\n"
     ]
    }
   ],
   "source": [
    "# List \n",
    "a = [\"apple\", \"banana\", \"cherry\"]\n",
    "print(a)\n",
    "print(type(a)) \n"
   ]
  },
  {
   "cell_type": "code",
   "execution_count": 32,
   "metadata": {},
   "outputs": [
    {
     "name": "stdout",
     "output_type": "stream",
     "text": [
      "('Country', 'province', 'city')\n",
      "<class 'tuple'>\n"
     ]
    }
   ],
   "source": [
    "# Tuple\n",
    "b = (\"Country\", \"province\", \"city\")\n",
    "print(b)\n",
    "print(type(b)) "
   ]
  },
  {
   "cell_type": "code",
   "execution_count": 35,
   "metadata": {},
   "outputs": [
    {
     "name": "stdout",
     "output_type": "stream",
     "text": [
      "[0, 1, 2, 3, 4, 5]\n",
      "<class 'list'>\n"
     ]
    }
   ],
   "source": [
    "# Range \n",
    "n = list(range(6))\n",
    "print(n) # Generates a sequence of numbers from 0 to 5\n",
    "print(type(n)) "
   ]
  },
  {
   "cell_type": "markdown",
   "metadata": {},
   "source": [
    "#### Mapping Data \n",
    "###### **Dictionary:** Dictionaries in Python are unordered collections that store key-value pairs for efficient data access and retrieval."
   ]
  },
  {
   "cell_type": "code",
   "execution_count": 38,
   "metadata": {},
   "outputs": [
    {
     "name": "stdout",
     "output_type": "stream",
     "text": [
      "{'name': 'John', 'age': 36}\n",
      "<class 'dict'>\n"
     ]
    }
   ],
   "source": [
    "# dictionary\n",
    "d = {\"name\" : \"John\", \"age\" : 36}\n",
    "print(d)\n",
    "print(type(d)) \n"
   ]
  },
  {
   "cell_type": "markdown",
   "metadata": {},
   "source": [
    "### Set Types\n",
    "##### There are two types sets and frozenset.\n",
    "###### **Sets:** Sets in Python are unordered collections of unique elements, allowing for efficient membership testing and removing duplicate values.<b>\n",
    "###### **Frozensets:** Frozensets in Python are immutable sets that offer unique element storage and fast membership testing.<b>\n",
    "\n"
   ]
  },
  {
   "cell_type": "code",
   "execution_count": 39,
   "metadata": {},
   "outputs": [
    {
     "name": "stdout",
     "output_type": "stream",
     "text": [
      "{'India', 'Bangladesh', 'Pakistan'}\n",
      "<class 'set'>\n"
     ]
    }
   ],
   "source": [
    "#Set\n",
    "c = {\"India\", \"Bangladesh\", \"Pakistan\"}\n",
    "print(c)\n",
    "print(type(c)) \n"
   ]
  },
  {
   "cell_type": "code",
   "execution_count": 40,
   "metadata": {},
   "outputs": [
    {
     "name": "stdout",
     "output_type": "stream",
     "text": [
      "frozenset({'charsadda', 'Peshawar', 'swat'})\n",
      "<class 'frozenset'>\n"
     ]
    }
   ],
   "source": [
    "#Frozenset\n",
    "r = frozenset({\"Peshawar\", \"swat\", \"charsadda\"})\n",
    "print(r)\n",
    "print(type(r)) "
   ]
  },
  {
   "cell_type": "markdown",
   "metadata": {},
   "source": [
    "#### Boolean_types\n",
    "###### **Bool:** Boolean data types in Python represent logical truth values, simply being either True or False.\n",
    "###### Ref: https://docs.python.org/3/tutorial/datastructures.html#"
   ]
  },
  {
   "cell_type": "code",
   "execution_count": 42,
   "metadata": {},
   "outputs": [
    {
     "name": "stdout",
     "output_type": "stream",
     "text": [
      "It's raining, bring an umbrella!\n"
     ]
    }
   ],
   "source": [
    "is_raining = True  # Boolean variable indicating whether it's raining\n",
    "\n",
    "if is_raining:  # Conditional statement based on the boolean value\n",
    "    print(\"It's raining, bring an umbrella!\")  # Action if the condition is true\n",
    "else:\n",
    "    print(\"Enjoy the sunshine!\")  # Action if the condition is false\n"
   ]
  },
  {
   "cell_type": "code",
   "execution_count": 43,
   "metadata": {},
   "outputs": [
    {
     "name": "stdout",
     "output_type": "stream",
     "text": [
      "Enjoy the sunshine!\n"
     ]
    }
   ],
   "source": [
    "is_raining = False  # Boolean variable indicating whether it's raining\n",
    "\n",
    "if is_raining:  # Conditional statement based on the boolean value\n",
    "    print(\"It's raining, bring an umbrella!\")  # Action if the condition is true\n",
    "else:\n",
    "    print(\"Enjoy the sunshine!\")  # Action if the condition is false"
   ]
  },
  {
   "cell_type": "markdown",
   "metadata": {},
   "source": [
    "#### Binary Types\n",
    "###### It has three types of bytes, bytearray, memoryview.\n",
    "###### **Bytes:** Bytes in Python represent immutable sequences of raw 8-bit values, often used for storing and manipulating binary data.<b>\n",
    "###### **Bytearry:** Bytearrays in Python are mutable sequences of bytes, allowing modification of raw binary data.<b>\n",
    "###### **Memoryview:** Memoryview in Python allows you to access the underlying buffer of compatible objects without copying the data, improving efficiency.<b>"
   ]
  },
  {
   "cell_type": "code",
   "execution_count": 44,
   "metadata": {},
   "outputs": [
    {
     "name": "stdout",
     "output_type": "stream",
     "text": [
      "b'Hello'\n",
      "<class 'bytes'>\n"
     ]
    }
   ],
   "source": [
    "# Bytes\n",
    "x = b\"Hello\"\n",
    "print(x)\n",
    "print(type(x)) \n"
   ]
  },
  {
   "cell_type": "code",
   "execution_count": 45,
   "metadata": {},
   "outputs": [
    {
     "name": "stdout",
     "output_type": "stream",
     "text": [
      "bytearray(b'\\x00\\x00\\x00\\x00\\x00')\n",
      "<class 'bytearray'>\n"
     ]
    }
   ],
   "source": [
    "# Bytearray\n",
    "m = bytearray(5)\n",
    "print(m)\n",
    "print(type(m)) \n"
   ]
  },
  {
   "cell_type": "code",
   "execution_count": 46,
   "metadata": {},
   "outputs": [
    {
     "name": "stdout",
     "output_type": "stream",
     "text": [
      "<memory at 0x00000231A5C8B280>\n",
      "<class 'memoryview'>\n"
     ]
    }
   ],
   "source": [
    "# Memoryview\n",
    "x = memoryview(bytes(5))\n",
    "print(x)\n",
    "print(type(x)) \n"
   ]
  },
  {
   "cell_type": "markdown",
   "metadata": {},
   "source": [
    "#### None_type\n",
    "###### **None_type:** NoneType in Python signifies the absence of a value and is represented by the single keyword."
   ]
  },
  {
   "cell_type": "code",
   "execution_count": 47,
   "metadata": {},
   "outputs": [
    {
     "name": "stdout",
     "output_type": "stream",
     "text": [
      "None\n",
      "<class 'NoneType'>\n"
     ]
    }
   ],
   "source": [
    "# None_type\n",
    "s = None\n",
    "print(s)\n",
    "print(type(s)) \n"
   ]
  },
  {
   "cell_type": "markdown",
   "metadata": {},
   "source": [
    "###### Ref : https://www.w3schools.com/python/python_datatypes.asp"
   ]
  },
  {
   "cell_type": "markdown",
   "metadata": {},
   "source": [
    "# Python Arithmetic Operators"
   ]
  },
  {
   "cell_type": "markdown",
   "metadata": {},
   "source": [
    "##### There are total Seven opeartors used in python for arithmetic in python. \n",
    "###### Each operation has been explained.  "
   ]
  },
  {
   "cell_type": "code",
   "execution_count": 50,
   "metadata": {},
   "outputs": [
    {
     "name": "stdout",
     "output_type": "stream",
     "text": [
      "Sum:  12\n",
      "Subtraction:  4\n",
      "Multiplication:  32\n",
      "Division:  2.0\n",
      "Floor Division:  2\n",
      "Modulo:  0\n",
      "Power:  4096\n"
     ]
    }
   ],
   "source": [
    "a = 8\n",
    "b = 4\n",
    "\n",
    "# addition\n",
    "print ('Sum: ', a + b)  \n",
    "\n",
    "# subtraction\n",
    "print ('Subtraction: ', a - b)   \n",
    "\n",
    "# multiplication\n",
    "print ('Multiplication: ', a * b)  \n",
    "\n",
    "# division\n",
    "print ('Division: ', a / b) \n",
    "\n",
    "# floor division\n",
    "print ('Floor Division: ', a // b)\n",
    "\n",
    "# modulo\n",
    "print ('Modulo: ', a % b)  \n",
    "\n",
    "# a to the power b\n",
    "print ('Power: ', a ** b)   "
   ]
  },
  {
   "cell_type": "markdown",
   "metadata": {},
   "source": [
    "#### **Part 2**: Take the standard input for two variables from the terminal and write a short code to read two variables num_hours, and payment, run the python file as a code. <b>\n",
    "\n",
    "\n"
   ]
  },
  {
   "cell_type": "code",
   "execution_count": 30,
   "metadata": {},
   "outputs": [
    {
     "name": "stdout",
     "output_type": "stream",
     "text": [
      "15\n",
      "Your next payment 6084000 ,Enjoy!\n"
     ]
    }
   ],
   "source": [
    "user_input = input('Please type something and hit Enter:')\n",
    "print(user_input)\n",
    "## mathematical operaion \n",
    "num_hours = input('Please type enter the number of hours: ')\n",
    "payment = input('Please type enter the pay rate: ')\n",
    "print(\"Your payment\", int(num_hours) * int(payment), \",Enjoy!\")\n"
   ]
  },
  {
   "cell_type": "code",
   "execution_count": null,
   "metadata": {},
   "outputs": [],
   "source": []
  }
 ],
 "metadata": {
  "kernelspec": {
   "display_name": "Python 3",
   "language": "python",
   "name": "python3"
  },
  "language_info": {
   "codemirror_mode": {
    "name": "ipython",
    "version": 3
   },
   "file_extension": ".py",
   "mimetype": "text/x-python",
   "name": "python",
   "nbconvert_exporter": "python",
   "pygments_lexer": "ipython3",
   "version": "3.12.2"
  }
 },
 "nbformat": 4,
 "nbformat_minor": 2
}
