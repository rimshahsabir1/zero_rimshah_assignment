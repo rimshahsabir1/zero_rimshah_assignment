{
 "cells": [
  {
   "cell_type": "markdown",
   "metadata": {},
   "source": [
    "#### Assignment 3 \n",
    "####  Python Object-Oriented Programming (OOP) \n",
    "##### Classes and Objects in Python\n",
    "##### Python supports Object-Oriented Programming (OOP), which is a popular way of structuring programs by creating objects.<b>\n",
    "###### In this assignment we will do the following \n",
    "1. Class and objects in Python\n",
    "2. Class attributes and methods\n",
    "3. Creating and accessing object properties\n",
    "4. Modify and delete an object"
   ]
  },
  {
   "cell_type": "markdown",
   "metadata": {},
   "source": [
    "1. Class and objects in Python\n",
    "###### **Objects:** These are real-world entities like a dog, car, or bank account that have properties (attributes) and functionalities (methods). Imagine an object as a blueprint for a specific type of thing.<b>\n",
    "###### **Classes:**  These are blueprints that define the attributes and methods that objects of a certain kind will have. Classes act like templates that you use to create objects.\n",
    "###### Objects have two characteristics: states and behaviors (an object has attributes and methods attached to it).\n",
    "- ###### Attributes represent its **state**.\n",
    "- ###### methods represent its **behavior**.\n",
    "- ###### Every object must be uniquely **identified**.\n",
    "- ###### In Python, Object creation is divided into two parts in Object Creation and Object initialization\n",
    "\n",
    "- ##### Internally, the __new__ is the method that creates the object\n",
    "- #####  using the __init__() method we can implement constructor to initialize the object. \n",
    "\n",
    "\n"
   ]
  },
  {
   "cell_type": "code",
   "execution_count": 12,
   "metadata": {},
   "outputs": [
    {
     "name": "stdout",
     "output_type": "stream",
     "text": [
      "Name: Monica Sex: Female Stranded: 10 Grade: A\n",
      "Monica stranded: 10 grade: A\n"
     ]
    }
   ],
   "source": [
    "class Student:\n",
    "    def __init__(self, name, sex, stranded, grade):\n",
    "        # data members (instance variables)\n",
    "        self.name = name\n",
    "        self.sex = sex\n",
    "        self.stranded = stranded\n",
    "        self.grade = grade\n",
    "\n",
    "    # Behavior (instance methods)\n",
    "    def show(self):\n",
    "        print(\"Name:\", self.name, \"Sex:\", self.sex, \"Stranded:\", self.stranded, 'Grade:', self.grade)\n",
    "\n",
    "    # Behavior (instance methods)\n",
    "    # Behavior (instance methods)\n",
    "    def work(self):\n",
    "        print(self.name, 'stranded:', self.stranded, 'grade:', self.grade)\n",
    "\n",
    "# create the object of a Student class\n",
    "monica = Student('Monica', 'Female', '10', 'A')\n",
    "\n",
    "# call methods\n",
    "monica.show()\n",
    "monica.work()"
   ]
  },
  {
   "cell_type": "code",
   "execution_count": 33,
   "metadata": {},
   "outputs": [
    {
     "name": "stdout",
     "output_type": "stream",
     "text": [
      "Employmet: Martha Jr.Development 2 Google\n",
      "Employmet: Martha Sr.Development 1 Apple\n"
     ]
    }
   ],
   "source": [
    "# class methods\n",
    "class Employment:\n",
    "    # class variable\n",
    "    employee = 'Google'\n",
    "    designation = \"Jr. developer\"\n",
    "\n",
    "    # constructor\n",
    "    def __init__(self, name, designation, year):\n",
    "        # instance variables\n",
    "        self.name = name\n",
    "        self.designation = designation\n",
    "        self.year = year\n",
    "      \n",
    "\n",
    "    # instance method\n",
    "    def show(self):\n",
    "        # access instance variables and class variables\n",
    "        print('Employmet:', self.name, self.designation, self.year, Employment.employee)\n",
    "\n",
    "    # instance method\n",
    "    def change_year(self, new_year):\n",
    "        # modify instance variable\n",
    "        self.year = new_year\n",
    "\n",
    "    # instance method\n",
    "    def change_designation(self, new_designation):\n",
    "        # modify instance variable\n",
    "        self.designation = new_designation\n",
    "\n",
    "    # class method\n",
    "    @classmethod\n",
    "    def modify_employee_name(cls, new_name):\n",
    "        # modify class variable\n",
    "        cls.employee = new_name\n",
    "\n",
    "s1 = Employment(\"Martha\",\"Jr.Development\", 2)\n",
    "\n",
    "# call instance methods\n",
    "s1.show()\n",
    "s1.change_year(1)\n",
    "s1.change_designation(\"Sr.Development\")\n",
    "\n",
    "# call class method\n",
    "Employment.modify_employee_name('Apple')\n",
    "\n",
    "# call instance methods\n",
    "s1.show()\n"
   ]
  },
  {
   "cell_type": "code",
   "execution_count": 39,
   "metadata": {},
   "outputs": [
    {
     "name": "stdout",
     "output_type": "stream",
     "text": [
      "Information: Atif Manager 5\n",
      "company_name: khaddi\n",
      "Information: Haris Finance Lead 3\n",
      "company_name:  NMR\n"
     ]
    }
   ],
   "source": [
    "# Class Attributes\n",
    "class Company:\n",
    "    # class variables\n",
    "    company_name = 'khaddi'\n",
    "\n",
    "    # constructor\n",
    "    def __init__(self, name, post, year):\n",
    "        # instance variables\n",
    "        self.name = name\n",
    "        self.post = post\n",
    "        self.year = year\n",
    "\n",
    "s1 = Company(\"Atif\", \"Manager\", 5)\n",
    "# access instance variables\n",
    "print('Information:', s1.name, s1.post, s1.year)\n",
    "\n",
    "# access class variable\n",
    "print('company_name:', Company.company_name)\n",
    "\n",
    "# Modify instance variables\n",
    "s1.name = 'Haris'\n",
    "s1.post = \"Finance Lead\"\n",
    "s1.year = 3\n",
    "print('Information:', s1.name, s1.post, s1.year)\n",
    "\n",
    "# Modify class variables\n",
    "Company.company_name = ' NMR'\n",
    "print('company_name:', Company.company_name)\n"
   ]
  },
  {
   "cell_type": "code",
   "execution_count": 43,
   "metadata": {},
   "outputs": [
    {
     "name": "stdout",
     "output_type": "stream",
     "text": [
      "vegetable is gobbi and Color is purple\n"
     ]
    }
   ],
   "source": [
    "#Object Properties\n",
    "class vegetables:\n",
    "    def __init__(self, name, color):\n",
    "        self.name = name\n",
    "        self.color = color\n",
    "\n",
    "    def show(self):\n",
    "        print(\"vegetable is\", self.name, \"and Color is\", self.color)\n",
    "\n",
    "# creating object of the class\n",
    "obj = vegetables(\"Bangain\", \"purple\")\n",
    "\n",
    "# Modifying Object Properties\n",
    "obj.name = \"gobbi\"\n",
    "\n",
    "# calling the instance method using the object obj\n",
    "obj.show()\n",
    "# Output Fruit is strawberry and Color is red"
   ]
  },
  {
   "cell_type": "code",
   "execution_count": 45,
   "metadata": {},
   "outputs": [
    {
     "name": "stdout",
     "output_type": "stream",
     "text": [
      "vegetable is gobbi and Color is purple\n"
     ]
    },
    {
     "ename": "AttributeError",
     "evalue": "'vegetables' object has no attribute 'name'",
     "output_type": "error",
     "traceback": [
      "\u001b[1;31m---------------------------------------------------------------------------\u001b[0m",
      "\u001b[1;31mAttributeError\u001b[0m                            Traceback (most recent call last)",
      "Cell \u001b[1;32mIn[45], line 22\u001b[0m\n\u001b[0;32m     20\u001b[0m \u001b[38;5;28;01mdel\u001b[39;00m obj\u001b[38;5;241m.\u001b[39mname\n\u001b[0;32m     21\u001b[0m \u001b[38;5;66;03m# Accessing object properties after deleting\u001b[39;00m\n\u001b[1;32m---> 22\u001b[0m \u001b[38;5;28mprint\u001b[39m(\u001b[43mobj\u001b[49m\u001b[38;5;241;43m.\u001b[39;49m\u001b[43mname\u001b[49m)\n",
      "\u001b[1;31mAttributeError\u001b[0m: 'vegetables' object has no attribute 'name'"
     ]
    }
   ],
   "source": [
    "\n",
    "# Deleting Object Properties\n",
    "del obj.name\n",
    "# Accessing object properties after deleting\n",
    "print(obj.name)\n",
    "# when we try to delete it will give, attributeError. "
   ]
  },
  {
   "cell_type": "markdown",
   "metadata": {},
   "source": [
    "###### Refrences: \n",
    "###### 1: https://pynative.com/python-classes-and-objects/"
   ]
  },
  {
   "cell_type": "code",
   "execution_count": null,
   "metadata": {},
   "outputs": [],
   "source": []
  }
 ],
 "metadata": {
  "kernelspec": {
   "display_name": "Python 3",
   "language": "python",
   "name": "python3"
  },
  "language_info": {
   "codemirror_mode": {
    "name": "ipython",
    "version": 3
   },
   "file_extension": ".py",
   "mimetype": "text/x-python",
   "name": "python",
   "nbconvert_exporter": "python",
   "pygments_lexer": "ipython3",
   "version": "3.12.2"
  }
 },
 "nbformat": 4,
 "nbformat_minor": 2
}
